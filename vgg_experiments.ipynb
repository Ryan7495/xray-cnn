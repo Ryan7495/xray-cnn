{
  "nbformat": 4,
  "nbformat_minor": 0,
  "metadata": {
    "colab": {
      "name": "vgg-experiments.ipynb",
      "provenance": [],
      "collapsed_sections": []
    },
    "kernelspec": {
      "name": "python3",
      "display_name": "Python 3"
    },
    "language_info": {
      "name": "python"
    },
    "accelerator": "GPU",
    "widgets": {
      "application/vnd.jupyter.widget-state+json": {
        "68905bd2ef804121a52ccadabb04f8b5": {
          "model_module": "@jupyter-widgets/controls",
          "model_name": "HBoxModel",
          "state": {
            "_view_name": "HBoxView",
            "_dom_classes": [],
            "_model_name": "HBoxModel",
            "_view_module": "@jupyter-widgets/controls",
            "_model_module_version": "1.5.0",
            "_view_count": null,
            "_view_module_version": "1.5.0",
            "box_style": "",
            "layout": "IPY_MODEL_6cbb70ce46fa4f68941f1d806f6af338",
            "_model_module": "@jupyter-widgets/controls",
            "children": [
              "IPY_MODEL_bb3876508b164fb7850e28fd2d6cfe3c",
              "IPY_MODEL_9a40b9aded7b4ff8856c7208c028c641"
            ]
          }
        },
        "6cbb70ce46fa4f68941f1d806f6af338": {
          "model_module": "@jupyter-widgets/base",
          "model_name": "LayoutModel",
          "state": {
            "_view_name": "LayoutView",
            "grid_template_rows": null,
            "right": null,
            "justify_content": null,
            "_view_module": "@jupyter-widgets/base",
            "overflow": null,
            "_model_module_version": "1.2.0",
            "_view_count": null,
            "flex_flow": null,
            "width": null,
            "min_width": null,
            "border": null,
            "align_items": null,
            "bottom": null,
            "_model_module": "@jupyter-widgets/base",
            "top": null,
            "grid_column": null,
            "overflow_y": null,
            "overflow_x": null,
            "grid_auto_flow": null,
            "grid_area": null,
            "grid_template_columns": null,
            "flex": null,
            "_model_name": "LayoutModel",
            "justify_items": null,
            "grid_row": null,
            "max_height": null,
            "align_content": null,
            "visibility": null,
            "align_self": null,
            "height": null,
            "min_height": null,
            "padding": null,
            "grid_auto_rows": null,
            "grid_gap": null,
            "max_width": null,
            "order": null,
            "_view_module_version": "1.2.0",
            "grid_template_areas": null,
            "object_position": null,
            "object_fit": null,
            "grid_auto_columns": null,
            "margin": null,
            "display": null,
            "left": null
          }
        },
        "bb3876508b164fb7850e28fd2d6cfe3c": {
          "model_module": "@jupyter-widgets/controls",
          "model_name": "FloatProgressModel",
          "state": {
            "_view_name": "ProgressView",
            "style": "IPY_MODEL_1b322c3e789f43688d6894c3d786cef2",
            "_dom_classes": [],
            "description": "100%",
            "_model_name": "FloatProgressModel",
            "bar_style": "success",
            "max": 3404,
            "_view_module": "@jupyter-widgets/controls",
            "_model_module_version": "1.5.0",
            "value": 3404,
            "_view_count": null,
            "_view_module_version": "1.5.0",
            "orientation": "horizontal",
            "min": 0,
            "description_tooltip": null,
            "_model_module": "@jupyter-widgets/controls",
            "layout": "IPY_MODEL_6d6fc80943534ccfba7832481769c166"
          }
        },
        "9a40b9aded7b4ff8856c7208c028c641": {
          "model_module": "@jupyter-widgets/controls",
          "model_name": "HTMLModel",
          "state": {
            "_view_name": "HTMLView",
            "style": "IPY_MODEL_0e29242af3d3443cbc5f1c8369def231",
            "_dom_classes": [],
            "description": "",
            "_model_name": "HTMLModel",
            "placeholder": "​",
            "_view_module": "@jupyter-widgets/controls",
            "_model_module_version": "1.5.0",
            "value": " 3404/3404 [10:09&lt;00:00,  5.59it/s]",
            "_view_count": null,
            "_view_module_version": "1.5.0",
            "description_tooltip": null,
            "_model_module": "@jupyter-widgets/controls",
            "layout": "IPY_MODEL_34d4e724504c48338fc0218c9953688d"
          }
        },
        "1b322c3e789f43688d6894c3d786cef2": {
          "model_module": "@jupyter-widgets/controls",
          "model_name": "ProgressStyleModel",
          "state": {
            "_view_name": "StyleView",
            "_model_name": "ProgressStyleModel",
            "description_width": "initial",
            "_view_module": "@jupyter-widgets/base",
            "_model_module_version": "1.5.0",
            "_view_count": null,
            "_view_module_version": "1.2.0",
            "bar_color": null,
            "_model_module": "@jupyter-widgets/controls"
          }
        },
        "6d6fc80943534ccfba7832481769c166": {
          "model_module": "@jupyter-widgets/base",
          "model_name": "LayoutModel",
          "state": {
            "_view_name": "LayoutView",
            "grid_template_rows": null,
            "right": null,
            "justify_content": null,
            "_view_module": "@jupyter-widgets/base",
            "overflow": null,
            "_model_module_version": "1.2.0",
            "_view_count": null,
            "flex_flow": null,
            "width": null,
            "min_width": null,
            "border": null,
            "align_items": null,
            "bottom": null,
            "_model_module": "@jupyter-widgets/base",
            "top": null,
            "grid_column": null,
            "overflow_y": null,
            "overflow_x": null,
            "grid_auto_flow": null,
            "grid_area": null,
            "grid_template_columns": null,
            "flex": null,
            "_model_name": "LayoutModel",
            "justify_items": null,
            "grid_row": null,
            "max_height": null,
            "align_content": null,
            "visibility": null,
            "align_self": null,
            "height": null,
            "min_height": null,
            "padding": null,
            "grid_auto_rows": null,
            "grid_gap": null,
            "max_width": null,
            "order": null,
            "_view_module_version": "1.2.0",
            "grid_template_areas": null,
            "object_position": null,
            "object_fit": null,
            "grid_auto_columns": null,
            "margin": null,
            "display": null,
            "left": null
          }
        },
        "0e29242af3d3443cbc5f1c8369def231": {
          "model_module": "@jupyter-widgets/controls",
          "model_name": "DescriptionStyleModel",
          "state": {
            "_view_name": "StyleView",
            "_model_name": "DescriptionStyleModel",
            "description_width": "",
            "_view_module": "@jupyter-widgets/base",
            "_model_module_version": "1.5.0",
            "_view_count": null,
            "_view_module_version": "1.2.0",
            "_model_module": "@jupyter-widgets/controls"
          }
        },
        "34d4e724504c48338fc0218c9953688d": {
          "model_module": "@jupyter-widgets/base",
          "model_name": "LayoutModel",
          "state": {
            "_view_name": "LayoutView",
            "grid_template_rows": null,
            "right": null,
            "justify_content": null,
            "_view_module": "@jupyter-widgets/base",
            "overflow": null,
            "_model_module_version": "1.2.0",
            "_view_count": null,
            "flex_flow": null,
            "width": null,
            "min_width": null,
            "border": null,
            "align_items": null,
            "bottom": null,
            "_model_module": "@jupyter-widgets/base",
            "top": null,
            "grid_column": null,
            "overflow_y": null,
            "overflow_x": null,
            "grid_auto_flow": null,
            "grid_area": null,
            "grid_template_columns": null,
            "flex": null,
            "_model_name": "LayoutModel",
            "justify_items": null,
            "grid_row": null,
            "max_height": null,
            "align_content": null,
            "visibility": null,
            "align_self": null,
            "height": null,
            "min_height": null,
            "padding": null,
            "grid_auto_rows": null,
            "grid_gap": null,
            "max_width": null,
            "order": null,
            "_view_module_version": "1.2.0",
            "grid_template_areas": null,
            "object_position": null,
            "object_fit": null,
            "grid_auto_columns": null,
            "margin": null,
            "display": null,
            "left": null
          }
        },
        "cf1edf1f8f7f4942ad18cd9b6dbbec38": {
          "model_module": "@jupyter-widgets/controls",
          "model_name": "HBoxModel",
          "state": {
            "_view_name": "HBoxView",
            "_dom_classes": [],
            "_model_name": "HBoxModel",
            "_view_module": "@jupyter-widgets/controls",
            "_model_module_version": "1.5.0",
            "_view_count": null,
            "_view_module_version": "1.5.0",
            "box_style": "",
            "layout": "IPY_MODEL_becda28b68884f368b54bba190909194",
            "_model_module": "@jupyter-widgets/controls",
            "children": [
              "IPY_MODEL_8770b3ce5b9c4ffca5e9105c80f45c22",
              "IPY_MODEL_f226735754984022924930814ad55827"
            ]
          }
        },
        "becda28b68884f368b54bba190909194": {
          "model_module": "@jupyter-widgets/base",
          "model_name": "LayoutModel",
          "state": {
            "_view_name": "LayoutView",
            "grid_template_rows": null,
            "right": null,
            "justify_content": null,
            "_view_module": "@jupyter-widgets/base",
            "overflow": null,
            "_model_module_version": "1.2.0",
            "_view_count": null,
            "flex_flow": null,
            "width": null,
            "min_width": null,
            "border": null,
            "align_items": null,
            "bottom": null,
            "_model_module": "@jupyter-widgets/base",
            "top": null,
            "grid_column": null,
            "overflow_y": null,
            "overflow_x": null,
            "grid_auto_flow": null,
            "grid_area": null,
            "grid_template_columns": null,
            "flex": null,
            "_model_name": "LayoutModel",
            "justify_items": null,
            "grid_row": null,
            "max_height": null,
            "align_content": null,
            "visibility": null,
            "align_self": null,
            "height": null,
            "min_height": null,
            "padding": null,
            "grid_auto_rows": null,
            "grid_gap": null,
            "max_width": null,
            "order": null,
            "_view_module_version": "1.2.0",
            "grid_template_areas": null,
            "object_position": null,
            "object_fit": null,
            "grid_auto_columns": null,
            "margin": null,
            "display": null,
            "left": null
          }
        },
        "8770b3ce5b9c4ffca5e9105c80f45c22": {
          "model_module": "@jupyter-widgets/controls",
          "model_name": "FloatProgressModel",
          "state": {
            "_view_name": "ProgressView",
            "style": "IPY_MODEL_38fc3d0b00b048d9b2b96b6df258efe9",
            "_dom_classes": [],
            "description": "100%",
            "_model_name": "FloatProgressModel",
            "bar_style": "success",
            "max": 1186,
            "_view_module": "@jupyter-widgets/controls",
            "_model_module_version": "1.5.0",
            "value": 1186,
            "_view_count": null,
            "_view_module_version": "1.5.0",
            "orientation": "horizontal",
            "min": 0,
            "description_tooltip": null,
            "_model_module": "@jupyter-widgets/controls",
            "layout": "IPY_MODEL_791848d30ae5408f9c409db24609d84d"
          }
        },
        "f226735754984022924930814ad55827": {
          "model_module": "@jupyter-widgets/controls",
          "model_name": "HTMLModel",
          "state": {
            "_view_name": "HTMLView",
            "style": "IPY_MODEL_407bed54aad9495ab4597f7cdda73d7c",
            "_dom_classes": [],
            "description": "",
            "_model_name": "HTMLModel",
            "placeholder": "​",
            "_view_module": "@jupyter-widgets/controls",
            "_model_module_version": "1.5.0",
            "value": " 1186/1186 [00:39&lt;00:00, 30.07it/s]",
            "_view_count": null,
            "_view_module_version": "1.5.0",
            "description_tooltip": null,
            "_model_module": "@jupyter-widgets/controls",
            "layout": "IPY_MODEL_a22c68c82ef64ed5bc97fd1c0c37b362"
          }
        },
        "38fc3d0b00b048d9b2b96b6df258efe9": {
          "model_module": "@jupyter-widgets/controls",
          "model_name": "ProgressStyleModel",
          "state": {
            "_view_name": "StyleView",
            "_model_name": "ProgressStyleModel",
            "description_width": "initial",
            "_view_module": "@jupyter-widgets/base",
            "_model_module_version": "1.5.0",
            "_view_count": null,
            "_view_module_version": "1.2.0",
            "bar_color": null,
            "_model_module": "@jupyter-widgets/controls"
          }
        },
        "791848d30ae5408f9c409db24609d84d": {
          "model_module": "@jupyter-widgets/base",
          "model_name": "LayoutModel",
          "state": {
            "_view_name": "LayoutView",
            "grid_template_rows": null,
            "right": null,
            "justify_content": null,
            "_view_module": "@jupyter-widgets/base",
            "overflow": null,
            "_model_module_version": "1.2.0",
            "_view_count": null,
            "flex_flow": null,
            "width": null,
            "min_width": null,
            "border": null,
            "align_items": null,
            "bottom": null,
            "_model_module": "@jupyter-widgets/base",
            "top": null,
            "grid_column": null,
            "overflow_y": null,
            "overflow_x": null,
            "grid_auto_flow": null,
            "grid_area": null,
            "grid_template_columns": null,
            "flex": null,
            "_model_name": "LayoutModel",
            "justify_items": null,
            "grid_row": null,
            "max_height": null,
            "align_content": null,
            "visibility": null,
            "align_self": null,
            "height": null,
            "min_height": null,
            "padding": null,
            "grid_auto_rows": null,
            "grid_gap": null,
            "max_width": null,
            "order": null,
            "_view_module_version": "1.2.0",
            "grid_template_areas": null,
            "object_position": null,
            "object_fit": null,
            "grid_auto_columns": null,
            "margin": null,
            "display": null,
            "left": null
          }
        },
        "407bed54aad9495ab4597f7cdda73d7c": {
          "model_module": "@jupyter-widgets/controls",
          "model_name": "DescriptionStyleModel",
          "state": {
            "_view_name": "StyleView",
            "_model_name": "DescriptionStyleModel",
            "description_width": "",
            "_view_module": "@jupyter-widgets/base",
            "_model_module_version": "1.5.0",
            "_view_count": null,
            "_view_module_version": "1.2.0",
            "_model_module": "@jupyter-widgets/controls"
          }
        },
        "a22c68c82ef64ed5bc97fd1c0c37b362": {
          "model_module": "@jupyter-widgets/base",
          "model_name": "LayoutModel",
          "state": {
            "_view_name": "LayoutView",
            "grid_template_rows": null,
            "right": null,
            "justify_content": null,
            "_view_module": "@jupyter-widgets/base",
            "overflow": null,
            "_model_module_version": "1.2.0",
            "_view_count": null,
            "flex_flow": null,
            "width": null,
            "min_width": null,
            "border": null,
            "align_items": null,
            "bottom": null,
            "_model_module": "@jupyter-widgets/base",
            "top": null,
            "grid_column": null,
            "overflow_y": null,
            "overflow_x": null,
            "grid_auto_flow": null,
            "grid_area": null,
            "grid_template_columns": null,
            "flex": null,
            "_model_name": "LayoutModel",
            "justify_items": null,
            "grid_row": null,
            "max_height": null,
            "align_content": null,
            "visibility": null,
            "align_self": null,
            "height": null,
            "min_height": null,
            "padding": null,
            "grid_auto_rows": null,
            "grid_gap": null,
            "max_width": null,
            "order": null,
            "_view_module_version": "1.2.0",
            "grid_template_areas": null,
            "object_position": null,
            "object_fit": null,
            "grid_auto_columns": null,
            "margin": null,
            "display": null,
            "left": null
          }
        },
        "f0d021a9f97f40549a5245b1d4df3100": {
          "model_module": "@jupyter-widgets/controls",
          "model_name": "HBoxModel",
          "state": {
            "_view_name": "HBoxView",
            "_dom_classes": [],
            "_model_name": "HBoxModel",
            "_view_module": "@jupyter-widgets/controls",
            "_model_module_version": "1.5.0",
            "_view_count": null,
            "_view_module_version": "1.5.0",
            "box_style": "",
            "layout": "IPY_MODEL_b6da2aed35984d9a91e13e0f04d17e12",
            "_model_module": "@jupyter-widgets/controls",
            "children": [
              "IPY_MODEL_d28c0c12eeb94985a218ddc64b5ab0d4",
              "IPY_MODEL_96693cd5563c49918d66ff549682bc73"
            ]
          }
        },
        "b6da2aed35984d9a91e13e0f04d17e12": {
          "model_module": "@jupyter-widgets/base",
          "model_name": "LayoutModel",
          "state": {
            "_view_name": "LayoutView",
            "grid_template_rows": null,
            "right": null,
            "justify_content": null,
            "_view_module": "@jupyter-widgets/base",
            "overflow": null,
            "_model_module_version": "1.2.0",
            "_view_count": null,
            "flex_flow": null,
            "width": null,
            "min_width": null,
            "border": null,
            "align_items": null,
            "bottom": null,
            "_model_module": "@jupyter-widgets/base",
            "top": null,
            "grid_column": null,
            "overflow_y": null,
            "overflow_x": null,
            "grid_auto_flow": null,
            "grid_area": null,
            "grid_template_columns": null,
            "flex": null,
            "_model_name": "LayoutModel",
            "justify_items": null,
            "grid_row": null,
            "max_height": null,
            "align_content": null,
            "visibility": null,
            "align_self": null,
            "height": null,
            "min_height": null,
            "padding": null,
            "grid_auto_rows": null,
            "grid_gap": null,
            "max_width": null,
            "order": null,
            "_view_module_version": "1.2.0",
            "grid_template_areas": null,
            "object_position": null,
            "object_fit": null,
            "grid_auto_columns": null,
            "margin": null,
            "display": null,
            "left": null
          }
        },
        "d28c0c12eeb94985a218ddc64b5ab0d4": {
          "model_module": "@jupyter-widgets/controls",
          "model_name": "FloatProgressModel",
          "state": {
            "_view_name": "ProgressView",
            "style": "IPY_MODEL_1333a23a72ee45c585aebee0a75347a0",
            "_dom_classes": [],
            "description": "100%",
            "_model_name": "FloatProgressModel",
            "bar_style": "success",
            "max": 390,
            "_view_module": "@jupyter-widgets/controls",
            "_model_module_version": "1.5.0",
            "value": 390,
            "_view_count": null,
            "_view_module_version": "1.5.0",
            "orientation": "horizontal",
            "min": 0,
            "description_tooltip": null,
            "_model_module": "@jupyter-widgets/controls",
            "layout": "IPY_MODEL_beebc42466874414ae276106fd15e22f"
          }
        },
        "96693cd5563c49918d66ff549682bc73": {
          "model_module": "@jupyter-widgets/controls",
          "model_name": "HTMLModel",
          "state": {
            "_view_name": "HTMLView",
            "style": "IPY_MODEL_b3d88e72cb404a4d9dbf5fa0b1416287",
            "_dom_classes": [],
            "description": "",
            "_model_name": "HTMLModel",
            "placeholder": "​",
            "_view_module": "@jupyter-widgets/controls",
            "_model_module_version": "1.5.0",
            "value": " 390/390 [00:08&lt;00:00, 47.52it/s]",
            "_view_count": null,
            "_view_module_version": "1.5.0",
            "description_tooltip": null,
            "_model_module": "@jupyter-widgets/controls",
            "layout": "IPY_MODEL_e12f840da58e40919c33838b50af0257"
          }
        },
        "1333a23a72ee45c585aebee0a75347a0": {
          "model_module": "@jupyter-widgets/controls",
          "model_name": "ProgressStyleModel",
          "state": {
            "_view_name": "StyleView",
            "_model_name": "ProgressStyleModel",
            "description_width": "initial",
            "_view_module": "@jupyter-widgets/base",
            "_model_module_version": "1.5.0",
            "_view_count": null,
            "_view_module_version": "1.2.0",
            "bar_color": null,
            "_model_module": "@jupyter-widgets/controls"
          }
        },
        "beebc42466874414ae276106fd15e22f": {
          "model_module": "@jupyter-widgets/base",
          "model_name": "LayoutModel",
          "state": {
            "_view_name": "LayoutView",
            "grid_template_rows": null,
            "right": null,
            "justify_content": null,
            "_view_module": "@jupyter-widgets/base",
            "overflow": null,
            "_model_module_version": "1.2.0",
            "_view_count": null,
            "flex_flow": null,
            "width": null,
            "min_width": null,
            "border": null,
            "align_items": null,
            "bottom": null,
            "_model_module": "@jupyter-widgets/base",
            "top": null,
            "grid_column": null,
            "overflow_y": null,
            "overflow_x": null,
            "grid_auto_flow": null,
            "grid_area": null,
            "grid_template_columns": null,
            "flex": null,
            "_model_name": "LayoutModel",
            "justify_items": null,
            "grid_row": null,
            "max_height": null,
            "align_content": null,
            "visibility": null,
            "align_self": null,
            "height": null,
            "min_height": null,
            "padding": null,
            "grid_auto_rows": null,
            "grid_gap": null,
            "max_width": null,
            "order": null,
            "_view_module_version": "1.2.0",
            "grid_template_areas": null,
            "object_position": null,
            "object_fit": null,
            "grid_auto_columns": null,
            "margin": null,
            "display": null,
            "left": null
          }
        },
        "b3d88e72cb404a4d9dbf5fa0b1416287": {
          "model_module": "@jupyter-widgets/controls",
          "model_name": "DescriptionStyleModel",
          "state": {
            "_view_name": "StyleView",
            "_model_name": "DescriptionStyleModel",
            "description_width": "",
            "_view_module": "@jupyter-widgets/base",
            "_model_module_version": "1.5.0",
            "_view_count": null,
            "_view_module_version": "1.2.0",
            "_model_module": "@jupyter-widgets/controls"
          }
        },
        "e12f840da58e40919c33838b50af0257": {
          "model_module": "@jupyter-widgets/base",
          "model_name": "LayoutModel",
          "state": {
            "_view_name": "LayoutView",
            "grid_template_rows": null,
            "right": null,
            "justify_content": null,
            "_view_module": "@jupyter-widgets/base",
            "overflow": null,
            "_model_module_version": "1.2.0",
            "_view_count": null,
            "flex_flow": null,
            "width": null,
            "min_width": null,
            "border": null,
            "align_items": null,
            "bottom": null,
            "_model_module": "@jupyter-widgets/base",
            "top": null,
            "grid_column": null,
            "overflow_y": null,
            "overflow_x": null,
            "grid_auto_flow": null,
            "grid_area": null,
            "grid_template_columns": null,
            "flex": null,
            "_model_name": "LayoutModel",
            "justify_items": null,
            "grid_row": null,
            "max_height": null,
            "align_content": null,
            "visibility": null,
            "align_self": null,
            "height": null,
            "min_height": null,
            "padding": null,
            "grid_auto_rows": null,
            "grid_gap": null,
            "max_width": null,
            "order": null,
            "_view_module_version": "1.2.0",
            "grid_template_areas": null,
            "object_position": null,
            "object_fit": null,
            "grid_auto_columns": null,
            "margin": null,
            "display": null,
            "left": null
          }
        },
        "82215e0df72246ffbfd1978c983968f9": {
          "model_module": "@jupyter-widgets/controls",
          "model_name": "HBoxModel",
          "state": {
            "_view_name": "HBoxView",
            "_dom_classes": [],
            "_model_name": "HBoxModel",
            "_view_module": "@jupyter-widgets/controls",
            "_model_module_version": "1.5.0",
            "_view_count": null,
            "_view_module_version": "1.5.0",
            "box_style": "",
            "layout": "IPY_MODEL_13d26f0f60774a29a54ddb7c5e76d52f",
            "_model_module": "@jupyter-widgets/controls",
            "children": [
              "IPY_MODEL_bc8d8a193df14e779bd2123b11920523",
              "IPY_MODEL_c1eaf25a08a54c6db9292bdccbfaa709"
            ]
          }
        },
        "13d26f0f60774a29a54ddb7c5e76d52f": {
          "model_module": "@jupyter-widgets/base",
          "model_name": "LayoutModel",
          "state": {
            "_view_name": "LayoutView",
            "grid_template_rows": null,
            "right": null,
            "justify_content": null,
            "_view_module": "@jupyter-widgets/base",
            "overflow": null,
            "_model_module_version": "1.2.0",
            "_view_count": null,
            "flex_flow": null,
            "width": null,
            "min_width": null,
            "border": null,
            "align_items": null,
            "bottom": null,
            "_model_module": "@jupyter-widgets/base",
            "top": null,
            "grid_column": null,
            "overflow_y": null,
            "overflow_x": null,
            "grid_auto_flow": null,
            "grid_area": null,
            "grid_template_columns": null,
            "flex": null,
            "_model_name": "LayoutModel",
            "justify_items": null,
            "grid_row": null,
            "max_height": null,
            "align_content": null,
            "visibility": null,
            "align_self": null,
            "height": null,
            "min_height": null,
            "padding": null,
            "grid_auto_rows": null,
            "grid_gap": null,
            "max_width": null,
            "order": null,
            "_view_module_version": "1.2.0",
            "grid_template_areas": null,
            "object_position": null,
            "object_fit": null,
            "grid_auto_columns": null,
            "margin": null,
            "display": null,
            "left": null
          }
        },
        "bc8d8a193df14e779bd2123b11920523": {
          "model_module": "@jupyter-widgets/controls",
          "model_name": "FloatProgressModel",
          "state": {
            "_view_name": "ProgressView",
            "style": "IPY_MODEL_64c9170c5bff43899957143cbc800e44",
            "_dom_classes": [],
            "description": "100%",
            "_model_name": "FloatProgressModel",
            "bar_style": "success",
            "max": 234,
            "_view_module": "@jupyter-widgets/controls",
            "_model_module_version": "1.5.0",
            "value": 234,
            "_view_count": null,
            "_view_module_version": "1.5.0",
            "orientation": "horizontal",
            "min": 0,
            "description_tooltip": null,
            "_model_module": "@jupyter-widgets/controls",
            "layout": "IPY_MODEL_306361ea9b4c47cbb4687f3962a42e1f"
          }
        },
        "c1eaf25a08a54c6db9292bdccbfaa709": {
          "model_module": "@jupyter-widgets/controls",
          "model_name": "HTMLModel",
          "state": {
            "_view_name": "HTMLView",
            "style": "IPY_MODEL_bf03b72688ec4f0bb3b391f251438544",
            "_dom_classes": [],
            "description": "",
            "_model_name": "HTMLModel",
            "placeholder": "​",
            "_view_module": "@jupyter-widgets/controls",
            "_model_module_version": "1.5.0",
            "value": " 234/234 [00:05&lt;00:00, 46.40it/s]",
            "_view_count": null,
            "_view_module_version": "1.5.0",
            "description_tooltip": null,
            "_model_module": "@jupyter-widgets/controls",
            "layout": "IPY_MODEL_1d34b66ad3bb4f3b97c7c775b3ed386c"
          }
        },
        "64c9170c5bff43899957143cbc800e44": {
          "model_module": "@jupyter-widgets/controls",
          "model_name": "ProgressStyleModel",
          "state": {
            "_view_name": "StyleView",
            "_model_name": "ProgressStyleModel",
            "description_width": "initial",
            "_view_module": "@jupyter-widgets/base",
            "_model_module_version": "1.5.0",
            "_view_count": null,
            "_view_module_version": "1.2.0",
            "bar_color": null,
            "_model_module": "@jupyter-widgets/controls"
          }
        },
        "306361ea9b4c47cbb4687f3962a42e1f": {
          "model_module": "@jupyter-widgets/base",
          "model_name": "LayoutModel",
          "state": {
            "_view_name": "LayoutView",
            "grid_template_rows": null,
            "right": null,
            "justify_content": null,
            "_view_module": "@jupyter-widgets/base",
            "overflow": null,
            "_model_module_version": "1.2.0",
            "_view_count": null,
            "flex_flow": null,
            "width": null,
            "min_width": null,
            "border": null,
            "align_items": null,
            "bottom": null,
            "_model_module": "@jupyter-widgets/base",
            "top": null,
            "grid_column": null,
            "overflow_y": null,
            "overflow_x": null,
            "grid_auto_flow": null,
            "grid_area": null,
            "grid_template_columns": null,
            "flex": null,
            "_model_name": "LayoutModel",
            "justify_items": null,
            "grid_row": null,
            "max_height": null,
            "align_content": null,
            "visibility": null,
            "align_self": null,
            "height": null,
            "min_height": null,
            "padding": null,
            "grid_auto_rows": null,
            "grid_gap": null,
            "max_width": null,
            "order": null,
            "_view_module_version": "1.2.0",
            "grid_template_areas": null,
            "object_position": null,
            "object_fit": null,
            "grid_auto_columns": null,
            "margin": null,
            "display": null,
            "left": null
          }
        },
        "bf03b72688ec4f0bb3b391f251438544": {
          "model_module": "@jupyter-widgets/controls",
          "model_name": "DescriptionStyleModel",
          "state": {
            "_view_name": "StyleView",
            "_model_name": "DescriptionStyleModel",
            "description_width": "",
            "_view_module": "@jupyter-widgets/base",
            "_model_module_version": "1.5.0",
            "_view_count": null,
            "_view_module_version": "1.2.0",
            "_model_module": "@jupyter-widgets/controls"
          }
        },
        "1d34b66ad3bb4f3b97c7c775b3ed386c": {
          "model_module": "@jupyter-widgets/base",
          "model_name": "LayoutModel",
          "state": {
            "_view_name": "LayoutView",
            "grid_template_rows": null,
            "right": null,
            "justify_content": null,
            "_view_module": "@jupyter-widgets/base",
            "overflow": null,
            "_model_module_version": "1.2.0",
            "_view_count": null,
            "flex_flow": null,
            "width": null,
            "min_width": null,
            "border": null,
            "align_items": null,
            "bottom": null,
            "_model_module": "@jupyter-widgets/base",
            "top": null,
            "grid_column": null,
            "overflow_y": null,
            "overflow_x": null,
            "grid_auto_flow": null,
            "grid_area": null,
            "grid_template_columns": null,
            "flex": null,
            "_model_name": "LayoutModel",
            "justify_items": null,
            "grid_row": null,
            "max_height": null,
            "align_content": null,
            "visibility": null,
            "align_self": null,
            "height": null,
            "min_height": null,
            "padding": null,
            "grid_auto_rows": null,
            "grid_gap": null,
            "max_width": null,
            "order": null,
            "_view_module_version": "1.2.0",
            "grid_template_areas": null,
            "object_position": null,
            "object_fit": null,
            "grid_auto_columns": null,
            "margin": null,
            "display": null,
            "left": null
          }
        },
        "92710861ac0c47aeac14bda63e2bb8e1": {
          "model_module": "@jupyter-widgets/controls",
          "model_name": "HBoxModel",
          "state": {
            "_view_name": "HBoxView",
            "_dom_classes": [],
            "_model_name": "HBoxModel",
            "_view_module": "@jupyter-widgets/controls",
            "_model_module_version": "1.5.0",
            "_view_count": null,
            "_view_module_version": "1.5.0",
            "box_style": "",
            "layout": "IPY_MODEL_5439682f1f914c73b4ae542b403d68ac",
            "_model_module": "@jupyter-widgets/controls",
            "children": [
              "IPY_MODEL_856106f370f7434e9300fd4cb5e71760",
              "IPY_MODEL_2c4aa3a6491e410d91b4aa7e0be557f6"
            ]
          }
        },
        "5439682f1f914c73b4ae542b403d68ac": {
          "model_module": "@jupyter-widgets/base",
          "model_name": "LayoutModel",
          "state": {
            "_view_name": "LayoutView",
            "grid_template_rows": null,
            "right": null,
            "justify_content": null,
            "_view_module": "@jupyter-widgets/base",
            "overflow": null,
            "_model_module_version": "1.2.0",
            "_view_count": null,
            "flex_flow": null,
            "width": null,
            "min_width": null,
            "border": null,
            "align_items": null,
            "bottom": null,
            "_model_module": "@jupyter-widgets/base",
            "top": null,
            "grid_column": null,
            "overflow_y": null,
            "overflow_x": null,
            "grid_auto_flow": null,
            "grid_area": null,
            "grid_template_columns": null,
            "flex": null,
            "_model_name": "LayoutModel",
            "justify_items": null,
            "grid_row": null,
            "max_height": null,
            "align_content": null,
            "visibility": null,
            "align_self": null,
            "height": null,
            "min_height": null,
            "padding": null,
            "grid_auto_rows": null,
            "grid_gap": null,
            "max_width": null,
            "order": null,
            "_view_module_version": "1.2.0",
            "grid_template_areas": null,
            "object_position": null,
            "object_fit": null,
            "grid_auto_columns": null,
            "margin": null,
            "display": null,
            "left": null
          }
        },
        "856106f370f7434e9300fd4cb5e71760": {
          "model_module": "@jupyter-widgets/controls",
          "model_name": "FloatProgressModel",
          "state": {
            "_view_name": "ProgressView",
            "style": "IPY_MODEL_41d27103548f4d95b9fcf76bedcfea62",
            "_dom_classes": [],
            "description": "100%",
            "_model_name": "FloatProgressModel",
            "bar_style": "success",
            "max": 479,
            "_view_module": "@jupyter-widgets/controls",
            "_model_module_version": "1.5.0",
            "value": 479,
            "_view_count": null,
            "_view_module_version": "1.5.0",
            "orientation": "horizontal",
            "min": 0,
            "description_tooltip": null,
            "_model_module": "@jupyter-widgets/controls",
            "layout": "IPY_MODEL_2e3c3727f68142fe845cdd5c126a28b8"
          }
        },
        "2c4aa3a6491e410d91b4aa7e0be557f6": {
          "model_module": "@jupyter-widgets/controls",
          "model_name": "HTMLModel",
          "state": {
            "_view_name": "HTMLView",
            "style": "IPY_MODEL_2278ccb913a546dd8dd81ef4ffc7334a",
            "_dom_classes": [],
            "description": "",
            "_model_name": "HTMLModel",
            "placeholder": "​",
            "_view_module": "@jupyter-widgets/controls",
            "_model_module_version": "1.5.0",
            "value": " 479/479 [00:16&lt;00:00, 28.80it/s]",
            "_view_count": null,
            "_view_module_version": "1.5.0",
            "description_tooltip": null,
            "_model_module": "@jupyter-widgets/controls",
            "layout": "IPY_MODEL_be4defd5fd9a4261a4111fe56e04adae"
          }
        },
        "41d27103548f4d95b9fcf76bedcfea62": {
          "model_module": "@jupyter-widgets/controls",
          "model_name": "ProgressStyleModel",
          "state": {
            "_view_name": "StyleView",
            "_model_name": "ProgressStyleModel",
            "description_width": "initial",
            "_view_module": "@jupyter-widgets/base",
            "_model_module_version": "1.5.0",
            "_view_count": null,
            "_view_module_version": "1.2.0",
            "bar_color": null,
            "_model_module": "@jupyter-widgets/controls"
          }
        },
        "2e3c3727f68142fe845cdd5c126a28b8": {
          "model_module": "@jupyter-widgets/base",
          "model_name": "LayoutModel",
          "state": {
            "_view_name": "LayoutView",
            "grid_template_rows": null,
            "right": null,
            "justify_content": null,
            "_view_module": "@jupyter-widgets/base",
            "overflow": null,
            "_model_module_version": "1.2.0",
            "_view_count": null,
            "flex_flow": null,
            "width": null,
            "min_width": null,
            "border": null,
            "align_items": null,
            "bottom": null,
            "_model_module": "@jupyter-widgets/base",
            "top": null,
            "grid_column": null,
            "overflow_y": null,
            "overflow_x": null,
            "grid_auto_flow": null,
            "grid_area": null,
            "grid_template_columns": null,
            "flex": null,
            "_model_name": "LayoutModel",
            "justify_items": null,
            "grid_row": null,
            "max_height": null,
            "align_content": null,
            "visibility": null,
            "align_self": null,
            "height": null,
            "min_height": null,
            "padding": null,
            "grid_auto_rows": null,
            "grid_gap": null,
            "max_width": null,
            "order": null,
            "_view_module_version": "1.2.0",
            "grid_template_areas": null,
            "object_position": null,
            "object_fit": null,
            "grid_auto_columns": null,
            "margin": null,
            "display": null,
            "left": null
          }
        },
        "2278ccb913a546dd8dd81ef4ffc7334a": {
          "model_module": "@jupyter-widgets/controls",
          "model_name": "DescriptionStyleModel",
          "state": {
            "_view_name": "StyleView",
            "_model_name": "DescriptionStyleModel",
            "description_width": "",
            "_view_module": "@jupyter-widgets/base",
            "_model_module_version": "1.5.0",
            "_view_count": null,
            "_view_module_version": "1.2.0",
            "_model_module": "@jupyter-widgets/controls"
          }
        },
        "be4defd5fd9a4261a4111fe56e04adae": {
          "model_module": "@jupyter-widgets/base",
          "model_name": "LayoutModel",
          "state": {
            "_view_name": "LayoutView",
            "grid_template_rows": null,
            "right": null,
            "justify_content": null,
            "_view_module": "@jupyter-widgets/base",
            "overflow": null,
            "_model_module_version": "1.2.0",
            "_view_count": null,
            "flex_flow": null,
            "width": null,
            "min_width": null,
            "border": null,
            "align_items": null,
            "bottom": null,
            "_model_module": "@jupyter-widgets/base",
            "top": null,
            "grid_column": null,
            "overflow_y": null,
            "overflow_x": null,
            "grid_auto_flow": null,
            "grid_area": null,
            "grid_template_columns": null,
            "flex": null,
            "_model_name": "LayoutModel",
            "justify_items": null,
            "grid_row": null,
            "max_height": null,
            "align_content": null,
            "visibility": null,
            "align_self": null,
            "height": null,
            "min_height": null,
            "padding": null,
            "grid_auto_rows": null,
            "grid_gap": null,
            "max_width": null,
            "order": null,
            "_view_module_version": "1.2.0",
            "grid_template_areas": null,
            "object_position": null,
            "object_fit": null,
            "grid_auto_columns": null,
            "margin": null,
            "display": null,
            "left": null
          }
        },
        "4be88774a7db42e094c624d82e2fefa4": {
          "model_module": "@jupyter-widgets/controls",
          "model_name": "HBoxModel",
          "state": {
            "_view_name": "HBoxView",
            "_dom_classes": [],
            "_model_name": "HBoxModel",
            "_view_module": "@jupyter-widgets/controls",
            "_model_module_version": "1.5.0",
            "_view_count": null,
            "_view_module_version": "1.5.0",
            "box_style": "",
            "layout": "IPY_MODEL_d7f66ff0588a479aa8dbec530c5c0ed8",
            "_model_module": "@jupyter-widgets/controls",
            "children": [
              "IPY_MODEL_6b9029637cfb4be88e908797c8c4d743",
              "IPY_MODEL_20525625f9424294b24ed848cb347db1"
            ]
          }
        },
        "d7f66ff0588a479aa8dbec530c5c0ed8": {
          "model_module": "@jupyter-widgets/base",
          "model_name": "LayoutModel",
          "state": {
            "_view_name": "LayoutView",
            "grid_template_rows": null,
            "right": null,
            "justify_content": null,
            "_view_module": "@jupyter-widgets/base",
            "overflow": null,
            "_model_module_version": "1.2.0",
            "_view_count": null,
            "flex_flow": null,
            "width": null,
            "min_width": null,
            "border": null,
            "align_items": null,
            "bottom": null,
            "_model_module": "@jupyter-widgets/base",
            "top": null,
            "grid_column": null,
            "overflow_y": null,
            "overflow_x": null,
            "grid_auto_flow": null,
            "grid_area": null,
            "grid_template_columns": null,
            "flex": null,
            "_model_name": "LayoutModel",
            "justify_items": null,
            "grid_row": null,
            "max_height": null,
            "align_content": null,
            "visibility": null,
            "align_self": null,
            "height": null,
            "min_height": null,
            "padding": null,
            "grid_auto_rows": null,
            "grid_gap": null,
            "max_width": null,
            "order": null,
            "_view_module_version": "1.2.0",
            "grid_template_areas": null,
            "object_position": null,
            "object_fit": null,
            "grid_auto_columns": null,
            "margin": null,
            "display": null,
            "left": null
          }
        },
        "6b9029637cfb4be88e908797c8c4d743": {
          "model_module": "@jupyter-widgets/controls",
          "model_name": "FloatProgressModel",
          "state": {
            "_view_name": "ProgressView",
            "style": "IPY_MODEL_38c3f68b8fae40a79c471da365d171f5",
            "_dom_classes": [],
            "description": "100%",
            "_model_name": "FloatProgressModel",
            "bar_style": "success",
            "max": 163,
            "_view_module": "@jupyter-widgets/controls",
            "_model_module_version": "1.5.0",
            "value": 163,
            "_view_count": null,
            "_view_module_version": "1.5.0",
            "orientation": "horizontal",
            "min": 0,
            "description_tooltip": null,
            "_model_module": "@jupyter-widgets/controls",
            "layout": "IPY_MODEL_8dedd4874d6e4e7a8bba1cee7dc127ff"
          }
        },
        "20525625f9424294b24ed848cb347db1": {
          "model_module": "@jupyter-widgets/controls",
          "model_name": "HTMLModel",
          "state": {
            "_view_name": "HTMLView",
            "style": "IPY_MODEL_dceefd9d98c042f892e14f05fb6b5419",
            "_dom_classes": [],
            "description": "",
            "_model_name": "HTMLModel",
            "placeholder": "​",
            "_view_module": "@jupyter-widgets/controls",
            "_model_module_version": "1.5.0",
            "value": " 163/163 [00:06&lt;00:00, 25.20it/s]",
            "_view_count": null,
            "_view_module_version": "1.5.0",
            "description_tooltip": null,
            "_model_module": "@jupyter-widgets/controls",
            "layout": "IPY_MODEL_85345ec01e5c4cfdbe2ef8feaa2e7bd6"
          }
        },
        "38c3f68b8fae40a79c471da365d171f5": {
          "model_module": "@jupyter-widgets/controls",
          "model_name": "ProgressStyleModel",
          "state": {
            "_view_name": "StyleView",
            "_model_name": "ProgressStyleModel",
            "description_width": "initial",
            "_view_module": "@jupyter-widgets/base",
            "_model_module_version": "1.5.0",
            "_view_count": null,
            "_view_module_version": "1.2.0",
            "bar_color": null,
            "_model_module": "@jupyter-widgets/controls"
          }
        },
        "8dedd4874d6e4e7a8bba1cee7dc127ff": {
          "model_module": "@jupyter-widgets/base",
          "model_name": "LayoutModel",
          "state": {
            "_view_name": "LayoutView",
            "grid_template_rows": null,
            "right": null,
            "justify_content": null,
            "_view_module": "@jupyter-widgets/base",
            "overflow": null,
            "_model_module_version": "1.2.0",
            "_view_count": null,
            "flex_flow": null,
            "width": null,
            "min_width": null,
            "border": null,
            "align_items": null,
            "bottom": null,
            "_model_module": "@jupyter-widgets/base",
            "top": null,
            "grid_column": null,
            "overflow_y": null,
            "overflow_x": null,
            "grid_auto_flow": null,
            "grid_area": null,
            "grid_template_columns": null,
            "flex": null,
            "_model_name": "LayoutModel",
            "justify_items": null,
            "grid_row": null,
            "max_height": null,
            "align_content": null,
            "visibility": null,
            "align_self": null,
            "height": null,
            "min_height": null,
            "padding": null,
            "grid_auto_rows": null,
            "grid_gap": null,
            "max_width": null,
            "order": null,
            "_view_module_version": "1.2.0",
            "grid_template_areas": null,
            "object_position": null,
            "object_fit": null,
            "grid_auto_columns": null,
            "margin": null,
            "display": null,
            "left": null
          }
        },
        "dceefd9d98c042f892e14f05fb6b5419": {
          "model_module": "@jupyter-widgets/controls",
          "model_name": "DescriptionStyleModel",
          "state": {
            "_view_name": "StyleView",
            "_model_name": "DescriptionStyleModel",
            "description_width": "",
            "_view_module": "@jupyter-widgets/base",
            "_model_module_version": "1.5.0",
            "_view_count": null,
            "_view_module_version": "1.2.0",
            "_model_module": "@jupyter-widgets/controls"
          }
        },
        "85345ec01e5c4cfdbe2ef8feaa2e7bd6": {
          "model_module": "@jupyter-widgets/base",
          "model_name": "LayoutModel",
          "state": {
            "_view_name": "LayoutView",
            "grid_template_rows": null,
            "right": null,
            "justify_content": null,
            "_view_module": "@jupyter-widgets/base",
            "overflow": null,
            "_model_module_version": "1.2.0",
            "_view_count": null,
            "flex_flow": null,
            "width": null,
            "min_width": null,
            "border": null,
            "align_items": null,
            "bottom": null,
            "_model_module": "@jupyter-widgets/base",
            "top": null,
            "grid_column": null,
            "overflow_y": null,
            "overflow_x": null,
            "grid_auto_flow": null,
            "grid_area": null,
            "grid_template_columns": null,
            "flex": null,
            "_model_name": "LayoutModel",
            "justify_items": null,
            "grid_row": null,
            "max_height": null,
            "align_content": null,
            "visibility": null,
            "align_self": null,
            "height": null,
            "min_height": null,
            "padding": null,
            "grid_auto_rows": null,
            "grid_gap": null,
            "max_width": null,
            "order": null,
            "_view_module_version": "1.2.0",
            "grid_template_areas": null,
            "object_position": null,
            "object_fit": null,
            "grid_auto_columns": null,
            "margin": null,
            "display": null,
            "left": null
          }
        }
      }
    }
  },
  "cells": [
    {
      "cell_type": "code",
      "metadata": {
        "id": "cY3wkx7Cd7Op"
      },
      "source": [
        "import warnings\n",
        "import pandas as pd\n",
        "import numpy as np\n",
        "import matplotlib.pyplot as plt\n",
        "import tensorflow as tf\n",
        "import cv2\n",
        "import seaborn as sns\n",
        "\n",
        "from keras import Model\n",
        "from keras.applications.vgg16 import VGG16\n",
        "from keras import regularizers\n",
        "from keras.callbacks import ReduceLROnPlateau, EarlyStopping, ModelCheckpoint\n",
        "from keras.optimizers import Adam, SGD, RMSprop\n",
        "from keras.models import Sequential, load_model, Model\n",
        "from keras.layers import Dense, Conv2D, Flatten, Dropout, MaxPool2D, AveragePooling2D, Activation, Concatenate\n",
        "from keras.preprocessing.image import ImageDataGenerator\n",
        "from tensorflow.keras.layers.experimental import preprocessing\n",
        "from tensorflow.keras.experimental import CosineDecayRestarts\n",
        "\n",
        "from sklearn.utils import shuffle\n",
        "from sklearn.model_selection import train_test_split\n",
        "from sklearn.metrics import classification_report, confusion_matrix\n",
        "from sklearn.preprocessing import OneHotEncoder, normalize\n",
        "\n",
        "from tqdm import notebook\n",
        "from os import listdir, path\n",
        "from google.colab.patches import cv2_imshow"
      ],
      "execution_count": 2,
      "outputs": []
    },
    {
      "cell_type": "code",
      "metadata": {
        "colab": {
          "base_uri": "https://localhost:8080/"
        },
        "id": "LeZXQQorkPMZ",
        "outputId": "e94e5379-fa12-486f-aab9-b3cd2cdea4c0"
      },
      "source": [
        "from google.colab import drive\n",
        "drive.mount('/content/gdrive')"
      ],
      "execution_count": 3,
      "outputs": [
        {
          "output_type": "stream",
          "text": [
            "Mounted at /content/gdrive\n"
          ],
          "name": "stdout"
        }
      ]
    },
    {
      "cell_type": "code",
      "metadata": {
        "id": "xErBPAw3kPvs"
      },
      "source": [
        "def read_imgs(directory, size):\n",
        "    X = []\n",
        "    y = []\n",
        "    \n",
        "    for folder in listdir(directory):\n",
        "        imgs_path = path.join(directory, folder)\n",
        "\n",
        "        if folder == 'NORMAL':\n",
        "            target = 0\n",
        "        elif folder == 'PNEUMONIA':\n",
        "            target = 1\n",
        "        else:\n",
        "            continue\n",
        "\n",
        "        print(\"Processing \" + imgs_path + \" images\")\n",
        "        for img_path in notebook.tqdm(listdir(imgs_path)):\n",
        "            if '.jpeg' in img_path:\n",
        "              img = cv2.imread(path.join(imgs_path, img_path))\n",
        "              h, w, _ = img.shape\n",
        "              if w > h:\n",
        "                  width_crop = w-h\n",
        "                  width_crop = width_crop // 2\n",
        "                  crop_img = img[0:h, width_crop:w-width_crop]\n",
        "              elif h > w:\n",
        "                  height_crop = h-w\n",
        "                  height_crop = height_crop // 2\n",
        "                  crop_img = img[height_crop:h-height_crop, 0:w]\n",
        "              else:\n",
        "                  crop_img = img\n",
        "              # crop_img = img\n",
        "              img = cv2.resize(crop_img, size)\n",
        "              \n",
        "              #Create the image array with the cropped and resized image\n",
        "              X.append(img)\n",
        "\n",
        "              #Create the Label array\n",
        "              if target == 1 and 'virus' in img_path:\n",
        "                  y.append(1)\n",
        "              elif target == 1 and 'bacteria' in img_path:\n",
        "                  y.append(2)\n",
        "              else:\n",
        "                  y.append(0)\n",
        "          \n",
        "\n",
        "    X = np.array(X)\n",
        "    y = np.array(y)\n",
        "    \n",
        "    return X, y\n",
        "\n",
        "# Function for plotting epoch history\n",
        "def plot_loss_history(history, title, start=0, end=None):\n",
        "    if not end:\n",
        "      end = len(history.history['loss'])\n",
        "    loss = history.history['loss'][start:end]\n",
        "\n",
        "    epochs = range(start, end, 1)\n",
        "\n",
        "    val_loss = history.history['val_loss'][start:end]\n",
        "\n",
        "    plt.plot(epochs, loss, 'bo', label='Training loss')\n",
        "    plt.plot(epochs, val_loss, 'r', label='Validation loss')\n",
        "    plt.title(title)\n",
        "    plt.xlabel('Epochs')\n",
        "    plt.ylabel('Loss')\n",
        "    plt.legend()\n",
        "\n",
        "    plt.show()\n",
        "\n",
        "# Function for plotting epoch history\n",
        "def plot_loss_accuracy(history, title, start=0, end=None):\n",
        "    if not end:\n",
        "      end = len(history.history['accuracy'])\n",
        "    loss = history.history['accuracy'][start:end]\n",
        "\n",
        "    epochs = range(start, end, 1)\n",
        "\n",
        "    val_loss = history.history['val_accuracy'][start:end]\n",
        "\n",
        "    plt.plot(epochs, loss, 'bo', label='Training accuracy')\n",
        "    plt.plot(epochs, val_loss, 'r', label='Validation accuracy')\n",
        "    plt.title(title)\n",
        "    plt.xlabel('Epochs')\n",
        "    plt.ylabel('Accuracy')\n",
        "    plt.legend()\n",
        "\n",
        "    plt.show()\n",
        "\n",
        "# Function for plotting class frequencies\n",
        "def plot_bar(targets, counts, title):\n",
        "  plt.title(title)\n",
        "  plt.bar(targets, count, tick_label=targets)\n",
        "  plt.xlabel(\"Targets\")\n",
        "  plt.ylabel(\"Counts\")\n",
        "  plt.show()\n",
        "\n",
        "def fit_model(model, mcp_save, name, batch_size, epochs=30):\n",
        "  history = model.fit(\n",
        "      train_iterator,\n",
        "      validation_data=val_iterator, \n",
        "      epochs=epochs, \n",
        "      verbose=1, \n",
        "      batch_size=batch_size,\n",
        "      callbacks=[mcp_save, reduce_lr, es],\n",
        "    )\n",
        "\n",
        "  return load_model(name), history \n",
        "\n",
        "def run_test(m):\n",
        "  results = m.evaluate(X_test, y_test, batch_size=64)\n",
        "  print(\"test loss, test acc:\", results)\n",
        "\n",
        "  predictions = m.predict(X_test)\n",
        "  predictions = np.argmax(predictions, axis=1)\n",
        "\n",
        "  print(classification_report(enc.inverse_transform(y_test), predictions))\n",
        "  cm = confusion_matrix(enc.inverse_transform(y_test), predictions)\n",
        "  print(cm)\n",
        "  sns.heatmap(cm, annot=True)"
      ],
      "execution_count": 4,
      "outputs": []
    },
    {
      "cell_type": "code",
      "metadata": {
        "id": "cRP49y1Kkdqr"
      },
      "source": [
        "!unzip 'gdrive/My Drive/chest_xray_split.zip'"
      ],
      "execution_count": null,
      "outputs": []
    },
    {
      "cell_type": "code",
      "metadata": {
        "colab": {
          "base_uri": "https://localhost:8080/",
          "height": 429,
          "referenced_widgets": [
            "68905bd2ef804121a52ccadabb04f8b5",
            "6cbb70ce46fa4f68941f1d806f6af338",
            "bb3876508b164fb7850e28fd2d6cfe3c",
            "9a40b9aded7b4ff8856c7208c028c641",
            "1b322c3e789f43688d6894c3d786cef2",
            "6d6fc80943534ccfba7832481769c166",
            "0e29242af3d3443cbc5f1c8369def231",
            "34d4e724504c48338fc0218c9953688d",
            "cf1edf1f8f7f4942ad18cd9b6dbbec38",
            "becda28b68884f368b54bba190909194",
            "8770b3ce5b9c4ffca5e9105c80f45c22",
            "f226735754984022924930814ad55827",
            "38fc3d0b00b048d9b2b96b6df258efe9",
            "791848d30ae5408f9c409db24609d84d",
            "407bed54aad9495ab4597f7cdda73d7c",
            "a22c68c82ef64ed5bc97fd1c0c37b362",
            "f0d021a9f97f40549a5245b1d4df3100",
            "b6da2aed35984d9a91e13e0f04d17e12",
            "d28c0c12eeb94985a218ddc64b5ab0d4",
            "96693cd5563c49918d66ff549682bc73",
            "1333a23a72ee45c585aebee0a75347a0",
            "beebc42466874414ae276106fd15e22f",
            "b3d88e72cb404a4d9dbf5fa0b1416287",
            "e12f840da58e40919c33838b50af0257",
            "82215e0df72246ffbfd1978c983968f9",
            "13d26f0f60774a29a54ddb7c5e76d52f",
            "bc8d8a193df14e779bd2123b11920523",
            "c1eaf25a08a54c6db9292bdccbfaa709",
            "64c9170c5bff43899957143cbc800e44",
            "306361ea9b4c47cbb4687f3962a42e1f",
            "bf03b72688ec4f0bb3b391f251438544",
            "1d34b66ad3bb4f3b97c7c775b3ed386c",
            "92710861ac0c47aeac14bda63e2bb8e1",
            "5439682f1f914c73b4ae542b403d68ac",
            "856106f370f7434e9300fd4cb5e71760",
            "2c4aa3a6491e410d91b4aa7e0be557f6",
            "41d27103548f4d95b9fcf76bedcfea62",
            "2e3c3727f68142fe845cdd5c126a28b8",
            "2278ccb913a546dd8dd81ef4ffc7334a",
            "be4defd5fd9a4261a4111fe56e04adae",
            "4be88774a7db42e094c624d82e2fefa4",
            "d7f66ff0588a479aa8dbec530c5c0ed8",
            "6b9029637cfb4be88e908797c8c4d743",
            "20525625f9424294b24ed848cb347db1",
            "38c3f68b8fae40a79c471da365d171f5",
            "8dedd4874d6e4e7a8bba1cee7dc127ff",
            "dceefd9d98c042f892e14f05fb6b5419",
            "85345ec01e5c4cfdbe2ef8feaa2e7bd6"
          ]
        },
        "id": "D10_-62jkkN0",
        "outputId": "5db0c6b9-ad96-4d07-81cd-322bdaa9a8dc"
      },
      "source": [
        "size = (224,224)\n",
        "dataset_path = 'chest_xray'\n",
        "\n",
        "train_directory = path.join(dataset_path, 'train')\n",
        "test_directory = path.join(dataset_path, 'test')\n",
        "val_directory = path.join(dataset_path, 'val')\n",
        "\n",
        "X_train, y_train = read_imgs(train_directory, size)\n",
        "X_test, y_test = read_imgs(test_directory, size)\n",
        "X_val, y_val = read_imgs(val_directory, size)"
      ],
      "execution_count": 6,
      "outputs": [
        {
          "output_type": "stream",
          "text": [
            "Processing chest_xray/train/PNEUMONIA images\n"
          ],
          "name": "stdout"
        },
        {
          "output_type": "display_data",
          "data": {
            "application/vnd.jupyter.widget-view+json": {
              "model_id": "68905bd2ef804121a52ccadabb04f8b5",
              "version_minor": 0,
              "version_major": 2
            },
            "text/plain": [
              "HBox(children=(FloatProgress(value=0.0, max=3404.0), HTML(value='')))"
            ]
          },
          "metadata": {
            "tags": []
          }
        },
        {
          "output_type": "stream",
          "text": [
            "\n",
            "Processing chest_xray/train/NORMAL images\n"
          ],
          "name": "stdout"
        },
        {
          "output_type": "display_data",
          "data": {
            "application/vnd.jupyter.widget-view+json": {
              "model_id": "cf1edf1f8f7f4942ad18cd9b6dbbec38",
              "version_minor": 0,
              "version_major": 2
            },
            "text/plain": [
              "HBox(children=(FloatProgress(value=0.0, max=1186.0), HTML(value='')))"
            ]
          },
          "metadata": {
            "tags": []
          }
        },
        {
          "output_type": "stream",
          "text": [
            "\n",
            "Processing chest_xray/test/PNEUMONIA images\n"
          ],
          "name": "stdout"
        },
        {
          "output_type": "display_data",
          "data": {
            "application/vnd.jupyter.widget-view+json": {
              "model_id": "f0d021a9f97f40549a5245b1d4df3100",
              "version_minor": 0,
              "version_major": 2
            },
            "text/plain": [
              "HBox(children=(FloatProgress(value=0.0, max=390.0), HTML(value='')))"
            ]
          },
          "metadata": {
            "tags": []
          }
        },
        {
          "output_type": "stream",
          "text": [
            "\n",
            "Processing chest_xray/test/NORMAL images\n"
          ],
          "name": "stdout"
        },
        {
          "output_type": "display_data",
          "data": {
            "application/vnd.jupyter.widget-view+json": {
              "model_id": "82215e0df72246ffbfd1978c983968f9",
              "version_minor": 0,
              "version_major": 2
            },
            "text/plain": [
              "HBox(children=(FloatProgress(value=0.0, max=234.0), HTML(value='')))"
            ]
          },
          "metadata": {
            "tags": []
          }
        },
        {
          "output_type": "stream",
          "text": [
            "\n",
            "Processing chest_xray/val/PNEUMONIA images\n"
          ],
          "name": "stdout"
        },
        {
          "output_type": "display_data",
          "data": {
            "application/vnd.jupyter.widget-view+json": {
              "model_id": "92710861ac0c47aeac14bda63e2bb8e1",
              "version_minor": 0,
              "version_major": 2
            },
            "text/plain": [
              "HBox(children=(FloatProgress(value=0.0, max=479.0), HTML(value='')))"
            ]
          },
          "metadata": {
            "tags": []
          }
        },
        {
          "output_type": "stream",
          "text": [
            "\n",
            "Processing chest_xray/val/NORMAL images\n"
          ],
          "name": "stdout"
        },
        {
          "output_type": "display_data",
          "data": {
            "application/vnd.jupyter.widget-view+json": {
              "model_id": "4be88774a7db42e094c624d82e2fefa4",
              "version_minor": 0,
              "version_major": 2
            },
            "text/plain": [
              "HBox(children=(FloatProgress(value=0.0, max=163.0), HTML(value='')))"
            ]
          },
          "metadata": {
            "tags": []
          }
        },
        {
          "output_type": "stream",
          "text": [
            "\n"
          ],
          "name": "stdout"
        }
      ]
    },
    {
      "cell_type": "code",
      "metadata": {
        "id": "Oz-ky9bbkt-K"
      },
      "source": [
        "y_train = y_train.reshape(-1, 1)\n",
        "y_test = y_test.reshape(-1, 1)\n",
        "y_val = y_val.reshape(-1, 1)"
      ],
      "execution_count": 7,
      "outputs": []
    },
    {
      "cell_type": "code",
      "metadata": {
        "id": "L3KzPhVilsqk"
      },
      "source": [
        "# Apply one hot encoder\n",
        "enc = OneHotEncoder(handle_unknown='ignore')\n",
        "y_train = enc.fit_transform(y_train).toarray()\n",
        "y_test = enc.transform(y_test).toarray()\n",
        "y_val = enc.transform(y_val).toarray()\n",
        "\n",
        "datagen_train = ImageDataGenerator(\n",
        "  rescale=1/255.0,\n",
        ")\n",
        "\n",
        "datagen_val = ImageDataGenerator(\n",
        "  rescale=1./255,\n",
        ")\n",
        "\n",
        "IMAGE_SIZE = [224, 224]\n",
        "\n",
        "train_iterator = datagen_train.flow(X_train, y_train, batch_size=64)\n",
        "val_iterator = datagen_val.flow(X_val, y_val)\n",
        "\n",
        "#mcp_save = ModelCheckpoint('vgg_model.hdf5', save_best_only=True, monitor='val_loss', mode='min')\n",
        "reduce_lr = ReduceLROnPlateau(monitor='val_loss', factor=0.5,patience=2, min_lr=0.0000001, verbose=1)\n",
        "es = EarlyStopping(monitor='loss', mode='min', verbose=1, patience=2)"
      ],
      "execution_count": 8,
      "outputs": []
    },
    {
      "cell_type": "code",
      "metadata": {
        "id": "SeRzQduJMSBL"
      },
      "source": [
        "X_test = X_test/255.0"
      ],
      "execution_count": 9,
      "outputs": []
    },
    {
      "cell_type": "markdown",
      "metadata": {
        "id": "soXsJQo7HSXT"
      },
      "source": [
        "## No L2/Drop Batch size 64"
      ]
    },
    {
      "cell_type": "code",
      "metadata": {
        "colab": {
          "base_uri": "https://localhost:8080/",
          "height": 1000
        },
        "id": "Nhq6fVsQoeae",
        "outputId": "37f2c6be-9935-4e25-99a9-251c6b8b7c43"
      },
      "source": [
        "vgg = VGG16(input_shape=IMAGE_SIZE + [3], weights='imagenet', include_top=False)\n",
        "\n",
        "for layer in vgg.layers:\n",
        " layer.trainable = False\n",
        " \n",
        "x = vgg.output\n",
        "x = Flatten()(x)\n",
        "\n",
        "x = Dense(512, activation='relu')(x)\n",
        "x = Dense(512, activation='relu')(x)\n",
        "x = Dense(256, activation='relu')(x)\n",
        "x = Dense(256, activation='relu')(x)\n",
        "\n",
        "prediction = Dense(3, activation='softmax')(x)\n",
        "model = Model(inputs=vgg.input, outputs=prediction)\n",
        "model.compile(loss='categorical_crossentropy',\n",
        "                    optimizer=Adam(lr=0.001),\n",
        "                    metrics=['accuracy'])\n",
        "\n",
        "model_name = 'second_model.hdf5'\n",
        "mcp_save = ModelCheckpoint(model_name, save_best_only=True, monitor='val_loss', mode='min')\n",
        "vgg_model, history = fit_model(model, mcp_save, model_name, 64, 20)\n",
        "run_test(vgg_model)"
      ],
      "execution_count": 12,
      "outputs": [
        {
          "output_type": "stream",
          "text": [
            "Epoch 1/20\n",
            "72/72 [==============================] - 34s 463ms/step - loss: 1.1319 - accuracy: 0.5438 - val_loss: 0.4895 - val_accuracy: 0.7741\n",
            "Epoch 2/20\n",
            "72/72 [==============================] - 20s 272ms/step - loss: 0.4785 - accuracy: 0.7813 - val_loss: 0.5123 - val_accuracy: 0.7897\n",
            "Epoch 3/20\n",
            "72/72 [==============================] - 20s 278ms/step - loss: 0.4345 - accuracy: 0.8043 - val_loss: 0.4344 - val_accuracy: 0.8022\n",
            "Epoch 4/20\n",
            "72/72 [==============================] - 20s 283ms/step - loss: 0.4065 - accuracy: 0.8227 - val_loss: 0.4299 - val_accuracy: 0.8131\n",
            "Epoch 5/20\n",
            "72/72 [==============================] - 21s 291ms/step - loss: 0.3946 - accuracy: 0.8204 - val_loss: 0.5030 - val_accuracy: 0.7944\n",
            "Epoch 6/20\n",
            "72/72 [==============================] - 21s 292ms/step - loss: 0.3338 - accuracy: 0.8568 - val_loss: 0.5237 - val_accuracy: 0.7882\n",
            "\n",
            "Epoch 00006: ReduceLROnPlateau reducing learning rate to 0.0005000000237487257.\n",
            "Epoch 7/20\n",
            "72/72 [==============================] - 21s 286ms/step - loss: 0.2599 - accuracy: 0.8932 - val_loss: 0.4715 - val_accuracy: 0.7913\n",
            "Epoch 8/20\n",
            "72/72 [==============================] - 21s 288ms/step - loss: 0.2412 - accuracy: 0.9035 - val_loss: 0.5429 - val_accuracy: 0.7632\n",
            "\n",
            "Epoch 00008: ReduceLROnPlateau reducing learning rate to 0.0002500000118743628.\n",
            "Epoch 9/20\n",
            "72/72 [==============================] - 21s 291ms/step - loss: 0.2350 - accuracy: 0.9007 - val_loss: 0.5526 - val_accuracy: 0.7773\n",
            "Epoch 10/20\n",
            "72/72 [==============================] - 21s 291ms/step - loss: 0.1983 - accuracy: 0.9161 - val_loss: 0.5466 - val_accuracy: 0.8209\n",
            "\n",
            "Epoch 00010: ReduceLROnPlateau reducing learning rate to 0.0001250000059371814.\n",
            "Epoch 11/20\n",
            "72/72 [==============================] - 21s 289ms/step - loss: 0.1431 - accuracy: 0.9435 - val_loss: 0.5979 - val_accuracy: 0.7928\n",
            "Epoch 12/20\n",
            "72/72 [==============================] - 21s 290ms/step - loss: 0.1628 - accuracy: 0.9384 - val_loss: 0.5588 - val_accuracy: 0.7991\n",
            "\n",
            "Epoch 00012: ReduceLROnPlateau reducing learning rate to 6.25000029685907e-05.\n",
            "Epoch 13/20\n",
            "72/72 [==============================] - 21s 290ms/step - loss: 0.1249 - accuracy: 0.9581 - val_loss: 0.6001 - val_accuracy: 0.8069\n",
            "Epoch 14/20\n",
            "72/72 [==============================] - 21s 289ms/step - loss: 0.1234 - accuracy: 0.9568 - val_loss: 0.6033 - val_accuracy: 0.7975\n",
            "\n",
            "Epoch 00014: ReduceLROnPlateau reducing learning rate to 3.125000148429535e-05.\n",
            "Epoch 15/20\n",
            "72/72 [==============================] - 21s 288ms/step - loss: 0.1194 - accuracy: 0.9651 - val_loss: 0.5958 - val_accuracy: 0.8069\n",
            "Epoch 16/20\n",
            "72/72 [==============================] - 21s 289ms/step - loss: 0.1036 - accuracy: 0.9701 - val_loss: 0.6058 - val_accuracy: 0.7991\n",
            "\n",
            "Epoch 00016: ReduceLROnPlateau reducing learning rate to 1.5625000742147677e-05.\n",
            "Epoch 17/20\n",
            "72/72 [==============================] - 21s 288ms/step - loss: 0.1042 - accuracy: 0.9694 - val_loss: 0.6070 - val_accuracy: 0.8022\n",
            "Epoch 18/20\n",
            "72/72 [==============================] - 21s 288ms/step - loss: 0.0998 - accuracy: 0.9705 - val_loss: 0.6119 - val_accuracy: 0.8006\n",
            "\n",
            "Epoch 00018: ReduceLROnPlateau reducing learning rate to 7.812500371073838e-06.\n",
            "Epoch 19/20\n",
            "72/72 [==============================] - 21s 289ms/step - loss: 0.1007 - accuracy: 0.9717 - val_loss: 0.6137 - val_accuracy: 0.8006\n",
            "Epoch 20/20\n",
            "72/72 [==============================] - 21s 288ms/step - loss: 0.0962 - accuracy: 0.9706 - val_loss: 0.6186 - val_accuracy: 0.7991\n",
            "\n",
            "Epoch 00020: ReduceLROnPlateau reducing learning rate to 3.906250185536919e-06.\n",
            "10/10 [==============================] - 11s 1s/step - loss: 0.8548 - accuracy: 0.7340\n",
            "test loss, test acc: [0.8548202514648438, 0.7339743375778198]\n",
            "              precision    recall  f1-score   support\n",
            "\n",
            "           0       0.98      0.53      0.69       234\n",
            "           1       0.56      0.64      0.59       148\n",
            "           2       0.73      0.99      0.84       242\n",
            "\n",
            "    accuracy                           0.73       624\n",
            "   macro avg       0.76      0.72      0.71       624\n",
            "weighted avg       0.78      0.73      0.73       624\n",
            "\n",
            "[[125  74  35]\n",
            " [  0  94  54]\n",
            " [  2   1 239]]\n"
          ],
          "name": "stdout"
        },
        {
          "output_type": "display_data",
          "data": {
            "image/png": "[encoded data removed]",
            "text/plain": [
              "<Figure size 432x288 with 2 Axes>"
            ]
          },
          "metadata": {
            "tags": [],
            "needs_background": "light"
          }
        }
      ]
    },
    {
      "cell_type": "code",
      "metadata": {
        "colab": {
          "base_uri": "https://localhost:8080/",
          "height": 573
        },
        "id": "F6NxXzUNrcaS",
        "outputId": "0b695886-e9f6-4f75-e86b-d6f02ab599c4"
      },
      "source": [
        "plot_loss_history(history, \"512(x2) 256(x2) - No regularizer/dropout - Loss\")\n",
        "plot_loss_accuracy(history, \"512(x2) 256(x2) - No regularizer/dropout - Accuracy\")"
      ],
      "execution_count": 13,
      "outputs": [
        {
          "output_type": "display_data",
          "data": {
            "image/png": "[encoded data removed]",
            "text/plain": [
              "<Figure size 432x288 with 1 Axes>"
            ]
          },
          "metadata": {
            "tags": [],
            "needs_background": "light"
          }
        },
        {
          "output_type": "display_data",
          "data": {
            "image/png": "[encoded data removed]",
            "text/plain": [
              "<Figure size 432x288 with 1 Axes>"
            ]
          },
          "metadata": {
            "tags": [],
            "needs_background": "light"
          }
        }
      ]
    },
    {
      "cell_type": "markdown",
      "metadata": {
        "id": "hs6UmVtXHXSb"
      },
      "source": [
        "## L2/Drop Batch size 64"
      ]
    },
    {
      "cell_type": "code",
      "metadata": {
        "colab": {
          "base_uri": "https://localhost:8080/",
          "height": 1000
        },
        "id": "MLJF0bvjsBeN",
        "outputId": "6631fdc0-3786-4910-e02c-cfced1408a2a"
      },
      "source": [
        "vgg = VGG16(input_shape=IMAGE_SIZE + [3], weights='imagenet', include_top=False)\n",
        "\n",
        "for layer in vgg.layers:\n",
        " layer.trainable = False\n",
        " \n",
        "x = vgg.output\n",
        "x = Flatten()(x)\n",
        "\n",
        "x = Dense(512, activation='relu', kernel_regularizer=regularizers.l2(1e-5))(x)\n",
        "x = Dropout(0.3)(x)\n",
        "\n",
        "x = Dense(512, activation='relu', kernel_regularizer=regularizers.l2(1e-5))(x)\n",
        "x = Dropout(0.3)(x)\n",
        "\n",
        "x = Dense(256, activation='relu', kernel_regularizer=regularizers.l2(1e-5))(x)\n",
        "x = Dropout(0.2)(x)\n",
        "\n",
        "x = Dense(256, activation='relu', kernel_regularizer=regularizers.l2(1e-5))(x)\n",
        "x = Dropout(0.2)(x)\n",
        "\n",
        "prediction = Dense(3, activation='softmax')(x)\n",
        "model = Model(inputs=vgg.input, outputs=prediction)\n",
        "model.compile(loss='categorical_crossentropy',\n",
        "                    optimizer=Adam(lr=0.001),\n",
        "                    metrics=['accuracy'])\n",
        "\n",
        "\n",
        "model_name = 'second_model_l2_drop.hdf5'\n",
        "mcp_save = ModelCheckpoint(model_name, save_best_only=True, monitor='val_loss', mode='min')\n",
        "vgg_model, history = fit_model(model, mcp_save, model_name, 64, 20)\n",
        "run_test(vgg_model)"
      ],
      "execution_count": 15,
      "outputs": [
        {
          "output_type": "stream",
          "text": [
            "Epoch 1/20\n",
            "72/72 [==============================] - 23s 310ms/step - loss: 1.0617 - accuracy: 0.5687 - val_loss: 0.5323 - val_accuracy: 0.7601\n",
            "Epoch 2/20\n",
            "72/72 [==============================] - 23s 322ms/step - loss: 0.5540 - accuracy: 0.7527 - val_loss: 0.4767 - val_accuracy: 0.8069\n",
            "Epoch 3/20\n",
            "72/72 [==============================] - 22s 310ms/step - loss: 0.5190 - accuracy: 0.7749 - val_loss: 0.4812 - val_accuracy: 0.7819\n",
            "Epoch 4/20\n",
            "72/72 [==============================] - 22s 305ms/step - loss: 0.5343 - accuracy: 0.7639 - val_loss: 0.4507 - val_accuracy: 0.8084\n",
            "Epoch 5/20\n",
            "72/72 [==============================] - 22s 311ms/step - loss: 0.5062 - accuracy: 0.7771 - val_loss: 0.4415 - val_accuracy: 0.8193\n",
            "Epoch 6/20\n",
            "72/72 [==============================] - 23s 315ms/step - loss: 0.4352 - accuracy: 0.8103 - val_loss: 0.4583 - val_accuracy: 0.8100\n",
            "Epoch 7/20\n",
            "72/72 [==============================] - 22s 311ms/step - loss: 0.4509 - accuracy: 0.8052 - val_loss: 0.4872 - val_accuracy: 0.7477\n",
            "\n",
            "Epoch 00007: ReduceLROnPlateau reducing learning rate to 0.0005000000237487257.\n",
            "Epoch 8/20\n",
            "72/72 [==============================] - 22s 308ms/step - loss: 0.4305 - accuracy: 0.7899 - val_loss: 0.4317 - val_accuracy: 0.8240\n",
            "Epoch 9/20\n",
            "72/72 [==============================] - 22s 311ms/step - loss: 0.4005 - accuracy: 0.8208 - val_loss: 0.4463 - val_accuracy: 0.8053\n",
            "Epoch 10/20\n",
            "72/72 [==============================] - 22s 313ms/step - loss: 0.3848 - accuracy: 0.8296 - val_loss: 0.4495 - val_accuracy: 0.8146\n",
            "\n",
            "Epoch 00010: ReduceLROnPlateau reducing learning rate to 0.0002500000118743628.\n",
            "Epoch 11/20\n",
            "72/72 [==============================] - 22s 311ms/step - loss: 0.3716 - accuracy: 0.8445 - val_loss: 0.4209 - val_accuracy: 0.8084\n",
            "Epoch 12/20\n",
            "72/72 [==============================] - 22s 310ms/step - loss: 0.3543 - accuracy: 0.8536 - val_loss: 0.4340 - val_accuracy: 0.8069\n",
            "Epoch 13/20\n",
            "72/72 [==============================] - 22s 310ms/step - loss: 0.3484 - accuracy: 0.8511 - val_loss: 0.4228 - val_accuracy: 0.8146\n",
            "\n",
            "Epoch 00013: ReduceLROnPlateau reducing learning rate to 0.0001250000059371814.\n",
            "Epoch 14/20\n",
            "72/72 [==============================] - 22s 311ms/step - loss: 0.3347 - accuracy: 0.8539 - val_loss: 0.4321 - val_accuracy: 0.8022\n",
            "Epoch 15/20\n",
            "72/72 [==============================] - 23s 313ms/step - loss: 0.3151 - accuracy: 0.8774 - val_loss: 0.4311 - val_accuracy: 0.8069\n",
            "\n",
            "Epoch 00015: ReduceLROnPlateau reducing learning rate to 6.25000029685907e-05.\n",
            "Epoch 16/20\n",
            "72/72 [==============================] - 23s 313ms/step - loss: 0.3314 - accuracy: 0.8571 - val_loss: 0.4405 - val_accuracy: 0.8100\n",
            "Epoch 17/20\n",
            "72/72 [==============================] - 22s 312ms/step - loss: 0.3204 - accuracy: 0.8669 - val_loss: 0.4386 - val_accuracy: 0.8084\n",
            "\n",
            "Epoch 00017: ReduceLROnPlateau reducing learning rate to 3.125000148429535e-05.\n",
            "Epoch 18/20\n",
            "72/72 [==============================] - 22s 312ms/step - loss: 0.3288 - accuracy: 0.8675 - val_loss: 0.4347 - val_accuracy: 0.8037\n",
            "Epoch 19/20\n",
            "72/72 [==============================] - 22s 312ms/step - loss: 0.3095 - accuracy: 0.8764 - val_loss: 0.4380 - val_accuracy: 0.8037\n",
            "\n",
            "Epoch 00019: ReduceLROnPlateau reducing learning rate to 1.5625000742147677e-05.\n",
            "Epoch 20/20\n",
            "72/72 [==============================] - 23s 313ms/step - loss: 0.3092 - accuracy: 0.8771 - val_loss: 0.4414 - val_accuracy: 0.8084\n",
            "10/10 [==============================] - 3s 266ms/step - loss: 1.0041 - accuracy: 0.7692\n",
            "test loss, test acc: [1.0041412115097046, 0.7692307829856873]\n",
            "              precision    recall  f1-score   support\n",
            "\n",
            "           0       0.98      0.53      0.69       234\n",
            "           1       0.57      0.81      0.67       148\n",
            "           2       0.83      0.98      0.90       242\n",
            "\n",
            "    accuracy                           0.77       624\n",
            "   macro avg       0.79      0.77      0.75       624\n",
            "weighted avg       0.82      0.77      0.76       624\n",
            "\n",
            "[[123  89  22]\n",
            " [  0 120  28]\n",
            " [  2   3 237]]\n"
          ],
          "name": "stdout"
        },
        {
          "output_type": "display_data",
          "data": {
            "image/png": "[encoded data removed]",
            "text/plain": [
              "<Figure size 432x288 with 2 Axes>"
            ]
          },
          "metadata": {
            "tags": [],
            "needs_background": "light"
          }
        }
      ]
    },
    {
      "cell_type": "code",
      "metadata": {
        "colab": {
          "base_uri": "https://localhost:8080/",
          "height": 573
        },
        "id": "n6ZQsyPbsHYt",
        "outputId": "0d6ad831-37ba-4938-af43-a8d6b6ffeb38"
      },
      "source": [
        "plot_loss_history(history, \"512 (x2) 256 (x2) - l2 regularizer - dropout - Loss\")\n",
        "plot_loss_accuracy(history, \"512 (x2) 256 (x2) - l2 regularizer - dropout - Accuracy\")"
      ],
      "execution_count": 16,
      "outputs": [
        {
          "output_type": "display_data",
          "data": {
            "image/png": "[encoded data removed]",
            "text/plain": [
              "<Figure size 432x288 with 1 Axes>"
            ]
          },
          "metadata": {
            "tags": [],
            "needs_background": "light"
          }
        },
        {
          "output_type": "display_data",
          "data": {
            "image/png": "[encoded data removed]",
            "text/plain": [
              "<Figure size 432x288 with 1 Axes>"
            ]
          },
          "metadata": {
            "tags": [],
            "needs_background": "light"
          }
        }
      ]
    },
    {
      "cell_type": "markdown",
      "metadata": {
        "id": "kM3XUigsamp_"
      },
      "source": [
        "## L2/Drop Batch size 128\n"
      ]
    },
    {
      "cell_type": "code",
      "metadata": {
        "colab": {
          "base_uri": "https://localhost:8080/",
          "height": 1000
        },
        "id": "KzsAh4FiUYwy",
        "outputId": "4b164137-2bca-4197-b33c-eda60efce53d"
      },
      "source": [
        "vgg = VGG16(input_shape=IMAGE_SIZE + [3], weights='imagenet', include_top=False)\n",
        "\n",
        "for layer in vgg.layers:\n",
        " layer.trainable = False\n",
        " \n",
        "x = vgg.output\n",
        "x = Flatten()(x)\n",
        "\n",
        "x = Dense(512, activation='relu', kernel_regularizer=regularizers.l2(1e-5))(x)\n",
        "x = Dropout(0.3)(x)\n",
        "\n",
        "x = Dense(512, activation='relu', kernel_regularizer=regularizers.l2(1e-5))(x)\n",
        "x = Dropout(0.3)(x)\n",
        "\n",
        "x = Dense(256, activation='relu', kernel_regularizer=regularizers.l2(1e-5))(x)\n",
        "x = Dropout(0.2)(x)\n",
        "\n",
        "x = Dense(256, activation='relu', kernel_regularizer=regularizers.l2(1e-5))(x)\n",
        "x = Dropout(0.2)(x)\n",
        "\n",
        "prediction = Dense(3, activation='softmax')(x)\n",
        "model = Model(inputs=vgg.input, outputs=prediction)\n",
        "model.compile(loss='categorical_crossentropy',\n",
        "                    optimizer=Adam(lr=0.0005),\n",
        "                    metrics=['accuracy'])\n",
        "\n",
        "\n",
        "model_name = 'second_model_l2_drop_batch_128.hdf5'\n",
        "mcp_save = ModelCheckpoint(model_name, save_best_only=True, monitor='val_loss', mode='min')\n",
        "vgg_model, history = fit_model(model, mcp_save, model_name, 128, 20)\n",
        "run_test(vgg_model)"
      ],
      "execution_count": 22,
      "outputs": [
        {
          "output_type": "stream",
          "text": [
            "Epoch 1/20\n",
            "72/72 [==============================] - 23s 312ms/step - loss: 0.9618 - accuracy: 0.5430 - val_loss: 0.5537 - val_accuracy: 0.7274\n",
            "Epoch 2/20\n",
            "72/72 [==============================] - 23s 322ms/step - loss: 0.5734 - accuracy: 0.7273 - val_loss: 0.4845 - val_accuracy: 0.8037\n",
            "Epoch 3/20\n",
            "72/72 [==============================] - 22s 309ms/step - loss: 0.5221 - accuracy: 0.7733 - val_loss: 0.5298 - val_accuracy: 0.7991\n",
            "Epoch 4/20\n",
            "72/72 [==============================] - 22s 305ms/step - loss: 0.5036 - accuracy: 0.7892 - val_loss: 0.4684 - val_accuracy: 0.8100\n",
            "Epoch 5/20\n",
            "72/72 [==============================] - 22s 312ms/step - loss: 0.4774 - accuracy: 0.7890 - val_loss: 0.4439 - val_accuracy: 0.8037\n",
            "Epoch 6/20\n",
            "72/72 [==============================] - 23s 314ms/step - loss: 0.4363 - accuracy: 0.8063 - val_loss: 0.4227 - val_accuracy: 0.8193\n",
            "Epoch 7/20\n",
            "72/72 [==============================] - 22s 309ms/step - loss: 0.4192 - accuracy: 0.8250 - val_loss: 0.4537 - val_accuracy: 0.8162\n",
            "Epoch 8/20\n",
            "72/72 [==============================] - 22s 311ms/step - loss: 0.4250 - accuracy: 0.8094 - val_loss: 0.4346 - val_accuracy: 0.8084\n",
            "\n",
            "Epoch 00008: ReduceLROnPlateau reducing learning rate to 0.0002500000118743628.\n",
            "Epoch 9/20\n",
            "72/72 [==============================] - 23s 313ms/step - loss: 0.3985 - accuracy: 0.8240 - val_loss: 0.4069 - val_accuracy: 0.8193\n",
            "Epoch 10/20\n",
            "72/72 [==============================] - 22s 311ms/step - loss: 0.3676 - accuracy: 0.8434 - val_loss: 0.4400 - val_accuracy: 0.7944\n",
            "Epoch 11/20\n",
            "72/72 [==============================] - 22s 310ms/step - loss: 0.3851 - accuracy: 0.8399 - val_loss: 0.4688 - val_accuracy: 0.7788\n",
            "\n",
            "Epoch 00011: ReduceLROnPlateau reducing learning rate to 0.0001250000059371814.\n",
            "Epoch 12/20\n",
            "72/72 [==============================] - 22s 311ms/step - loss: 0.3610 - accuracy: 0.8465 - val_loss: 0.4295 - val_accuracy: 0.8100\n",
            "Epoch 13/20\n",
            "72/72 [==============================] - 22s 310ms/step - loss: 0.3274 - accuracy: 0.8603 - val_loss: 0.4177 - val_accuracy: 0.8146\n",
            "\n",
            "Epoch 00013: ReduceLROnPlateau reducing learning rate to 6.25000029685907e-05.\n",
            "Epoch 14/20\n",
            "72/72 [==============================] - 22s 311ms/step - loss: 0.3205 - accuracy: 0.8639 - val_loss: 0.4354 - val_accuracy: 0.8193\n",
            "Epoch 15/20\n",
            "72/72 [==============================] - 22s 311ms/step - loss: 0.3146 - accuracy: 0.8707 - val_loss: 0.4311 - val_accuracy: 0.8193\n",
            "\n",
            "Epoch 00015: ReduceLROnPlateau reducing learning rate to 3.125000148429535e-05.\n",
            "Epoch 16/20\n",
            "72/72 [==============================] - 22s 312ms/step - loss: 0.3008 - accuracy: 0.8782 - val_loss: 0.4295 - val_accuracy: 0.8193\n",
            "Epoch 17/20\n",
            "72/72 [==============================] - 22s 312ms/step - loss: 0.3261 - accuracy: 0.8679 - val_loss: 0.4336 - val_accuracy: 0.8115\n",
            "\n",
            "Epoch 00017: ReduceLROnPlateau reducing learning rate to 1.5625000742147677e-05.\n",
            "Epoch 18/20\n",
            "72/72 [==============================] - 22s 313ms/step - loss: 0.2793 - accuracy: 0.8857 - val_loss: 0.4259 - val_accuracy: 0.8209\n",
            "Epoch 19/20\n",
            "72/72 [==============================] - 22s 312ms/step - loss: 0.3041 - accuracy: 0.8753 - val_loss: 0.4369 - val_accuracy: 0.8146\n",
            "\n",
            "Epoch 00019: ReduceLROnPlateau reducing learning rate to 7.812500371073838e-06.\n",
            "Epoch 20/20\n",
            "72/72 [==============================] - 22s 313ms/step - loss: 0.2864 - accuracy: 0.8861 - val_loss: 0.4292 - val_accuracy: 0.8209\n",
            "10/10 [==============================] - 3s 265ms/step - loss: 1.0154 - accuracy: 0.7837\n",
            "test loss, test acc: [1.015351414680481, 0.7836538553237915]\n",
            "              precision    recall  f1-score   support\n",
            "\n",
            "           0       0.99      0.57      0.72       234\n",
            "           1       0.61      0.81      0.70       148\n",
            "           2       0.81      0.98      0.88       242\n",
            "\n",
            "    accuracy                           0.78       624\n",
            "   macro avg       0.80      0.78      0.77       624\n",
            "weighted avg       0.83      0.78      0.78       624\n",
            "\n",
            "[[133  73  28]\n",
            " [  0 120  28]\n",
            " [  2   4 236]]\n"
          ],
          "name": "stdout"
        },
        {
          "output_type": "display_data",
          "data": {
            "image/png": "[encoded data removed]",
            "text/plain": [
              "<Figure size 432x288 with 2 Axes>"
            ]
          },
          "metadata": {
            "tags": [],
            "needs_background": "light"
          }
        }
      ]
    },
    {
      "cell_type": "code",
      "metadata": {
        "colab": {
          "base_uri": "https://localhost:8080/",
          "height": 573
        },
        "id": "CFbCqvEwUYy_",
        "outputId": "368410c4-5a18-412e-de14-925812442c22"
      },
      "source": [
        "plot_loss_history(history, \"512 (x2) 256 (x2) - l2 regularizer - dropout - Loss\")\n",
        "plot_loss_accuracy(history, \"512 (x2) 256 (x2) - l2 regularizer - dropout - Accuracy\")"
      ],
      "execution_count": 23,
      "outputs": [
        {
          "output_type": "display_data",
          "data": {
            "image/png": "[encoded data removed]",
            "text/plain": [
              "<Figure size 432x288 with 1 Axes>"
            ]
          },
          "metadata": {
            "tags": [],
            "needs_background": "light"
          }
        },
        {
          "output_type": "display_data",
          "data": {
            "image/png": "[encoded data removed]",
            "text/plain": [
              "<Figure size 432x288 with 1 Axes>"
            ]
          },
          "metadata": {
            "tags": [],
            "needs_background": "light"
          }
        }
      ]
    },
    {
      "cell_type": "code",
      "metadata": {
        "id": "Nyw9awrubzA0"
      },
      "source": [
        ""
      ],
      "execution_count": null,
      "outputs": []
    }
  ]
}