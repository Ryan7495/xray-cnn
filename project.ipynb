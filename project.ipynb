{
 "cells": [
  {
   "cell_type": "code",
   "execution_count": null,
   "metadata": {
    "id": "DvfcC2R2s90f"
   },
   "outputs": [],
   "source": [
    "import warnings\n",
    "import pandas as pd\n",
    "import numpy as np\n",
    "import matplotlib.pyplot as plt\n",
    "import tensorflow as tf\n",
    "import cv2\n",
    "import seaborn as sns\n",
    "\n",
    "from keras import Model\n",
    "from keras import regularizers\n",
    "from keras.callbacks import ReduceLROnPlateau, EarlyStopping\n",
    "from keras.optimizers import Adam, RMSprop, SGD\n",
    "from keras.models import Sequential\n",
    "from keras.layers.normalization import BatchNormalization\n",
    "from keras.layers import Dense, Conv2D, Flatten, Dropout, MaxPool2D, Input, AveragePooling2D, Activation\n",
    "from keras.preprocessing.image import ImageDataGenerator\n",
    "\n",
    "from sklearn.utils import shuffle\n",
    "from sklearn.model_selection import train_test_split\n",
    "from sklearn.metrics import classification_report, confusion_matrix\n",
    "\n",
    "from tqdm import notebook\n",
    "from os import listdir, path\n",
    "from google.colab.patches import cv2_imshow"
   ]
  },
  {
   "cell_type": "code",
   "execution_count": null,
   "metadata": {
    "colab": {
     "base_uri": "https://localhost:8080/"
    },
    "id": "Wn5qcmssvJFZ",
    "outputId": "170a80e7-75f8-4f10-9082-ca91d45a58b5"
   },
   "outputs": [
    {
     "name": "stdout",
     "output_type": "stream",
     "text": [
      "Mounted at /content/gdrive\n"
     ]
    }
   ],
   "source": [
    "from google.colab import drive\n",
    "drive.mount('/content/gdrive')"
   ]
  },
  {
   "cell_type": "code",
   "execution_count": null,
   "metadata": {
    "id": "vjW2X-0ItC36"
   },
   "outputs": [],
   "source": [
    "size = (200,200)\n",
    "dataset_path = 'chest_xray/chest_xray'"
   ]
  },
  {
   "cell_type": "code",
   "execution_count": null,
   "metadata": {
    "id": "zjABNiPbtECv"
   },
   "outputs": [],
   "source": [
    "def read_imgs(directory):\n",
    "    X = []\n",
    "    y = []\n",
    "    \n",
    "    for folder in listdir(directory):\n",
    "        imgs_path = path.join(directory, folder)\n",
    "\n",
    "        if folder == 'NORMAL':\n",
    "            target = 0\n",
    "        elif folder == 'PNEUMONIA':\n",
    "            target = 1\n",
    "        else:\n",
    "          continue\n",
    "\n",
    "        print(\"Processing \" + imgs_path + \" images\")\n",
    "        for img_path in notebook.tqdm(listdir(imgs_path)):\n",
    "            if '.jpeg' in img_path:\n",
    "              img = cv2.imread(path.join(imgs_path, img_path))\n",
    "              img = cv2.resize(img, size)\n",
    "              img = cv2.cvtColor(img, cv2.COLOR_BGR2GRAY)\n",
    "              X.append(img)\n",
    "              y.append(target)\n",
    "\n",
    "    X = np.array(X)\n",
    "    y = np.array(y)\n",
    "    \n",
    "    return X, y   "
   ]
  },
  {
   "cell_type": "code",
   "execution_count": null,
   "metadata": {
    "id": "L2LdaCxCvHbs"
   },
   "outputs": [],
   "source": [
    "!unzip 'gdrive/My Drive/chest_xray.zip'"
   ]
  },
  {
   "cell_type": "code",
   "execution_count": null,
   "metadata": {
    "colab": {
     "base_uri": "https://localhost:8080/",
     "height": 432,
     "referenced_widgets": [
      "abc05b9385f34c788355d7aa6b1e904c",
      "f0b337ad1447408280f2d077cc84dfa5",
      "a2162019bc5d4805a42770afcba26470",
      "5e724fba0add4f29b5f21bafb3c51306",
      "63d85e3447244710a9070e8dcc45e745",
      "ffade0252cee410aa91598f87cc0c9c7",
      "a054d7d065184f08bc4299203612e01a",
      "bdedc2f806e24cc69647c2ccaa81c9c3",
      "036063e9985f4d0588f56a02963e0be8",
      "9f8981420a3d4143a753bcec21d230c6",
      "268c1eed6a4a4abcb670a1cf28f6653c",
      "0668782741a94bd7a112c518a68a8e26",
      "f954a5ece4cf4db0a9e860ce4afe5153",
      "f0916fac03c1452c90a8e7a4ff3290f4",
      "7eaba56be3db40b5aebaed878e7c1a0d",
      "86f56b130e944430829ba972b1af20d4",
      "222e59c13fa546a99cf585c0b0493ef2",
      "62e618bce0524ffe8e9ffd43313147e2",
      "25200e5e9f0948379b2761a2ff2d2f9a",
      "e7f4802655724afd9a092409aa877864",
      "220188b2acf34528b2db8ab13fa843ec",
      "3eb740b8e89740a08cf4be967ef889b2",
      "d56b6f6539114dd2843319f3ec144215",
      "a080117996024495a960cc425204eec9",
      "95f645c4dd844d0d8e22051311d2e81c",
      "ed16fe5ec86446b3b28d1090c2a8e38f",
      "e5b39e70381042fd88107e624485a217",
      "7c7013f59fea429eac4654a7bcceaacf",
      "a811f1025ef24082973bffe62d40765f",
      "59d1aa88a24b4fc2bdc03a49c4b688df",
      "fbeba699c2b7478d997bf0b931ade823",
      "ed1f48676b78498a9d981b36ae1a68ad",
      "0ba51013dfec449791dbf9ac3817d07f",
      "17bb1a60b4a34541b73002a2889f39d6",
      "681cfe9fb2344c71ad8ec9aa9c396852",
      "ddce69d919424196b68e5b90a1bb6737",
      "e1f2ac9344194ffa8ff3038da6240242",
      "63fdc1f4635e434f9e4e03211295f231",
      "8d5b7b8fdd16429eb3fef9226870ec93",
      "18570fdc13ce40aab579d957613cfa8f",
      "945b2fd6b9c74aaf8c9fab4206401c4b",
      "6cfd916aacb24190a929f3f380ca25bd",
      "3341ca4bfd334a63bc9aa7d06786d9d6",
      "6e51e9b2cfa6465ba872977953fe0815",
      "95f2e942d89a4118a96e79f16ee60b9e",
      "c5709dd81bf74b6c9f6813b83b653d46",
      "7be6f6a0f10c4248aa0caa2fd186675b",
      "54966fd4136a4faeaccae4dd301c2cd4"
     ]
    },
    "id": "pbTdOp_1tFY3",
    "outputId": "b817646f-f4e3-4e90-f300-083f8ea6604c"
   },
   "outputs": [
    {
     "name": "stdout",
     "output_type": "stream",
     "text": [
      "Processing chest_xray/chest_xray/train/PNEUMONIA images\n"
     ]
    },
    {
     "data": {
      "application/vnd.jupyter.widget-view+json": {
       "model_id": "abc05b9385f34c788355d7aa6b1e904c",
       "version_major": 2,
       "version_minor": 0
      },
      "text/plain": [
       "HBox(children=(FloatProgress(value=0.0, max=3876.0), HTML(value='')))"
      ]
     },
     "metadata": {
      "tags": []
     },
     "output_type": "display_data"
    },
    {
     "name": "stdout",
     "output_type": "stream",
     "text": [
      "\n",
      "Processing chest_xray/chest_xray/train/NORMAL images\n"
     ]
    },
    {
     "data": {
      "application/vnd.jupyter.widget-view+json": {
       "model_id": "036063e9985f4d0588f56a02963e0be8",
       "version_major": 2,
       "version_minor": 0
      },
      "text/plain": [
       "HBox(children=(FloatProgress(value=0.0, max=1342.0), HTML(value='')))"
      ]
     },
     "metadata": {
      "tags": []
     },
     "output_type": "display_data"
    },
    {
     "name": "stdout",
     "output_type": "stream",
     "text": [
      "\n",
      "Processing chest_xray/chest_xray/test/PNEUMONIA images\n"
     ]
    },
    {
     "data": {
      "application/vnd.jupyter.widget-view+json": {
       "model_id": "222e59c13fa546a99cf585c0b0493ef2",
       "version_major": 2,
       "version_minor": 0
      },
      "text/plain": [
       "HBox(children=(FloatProgress(value=0.0, max=390.0), HTML(value='')))"
      ]
     },
     "metadata": {
      "tags": []
     },
     "output_type": "display_data"
    },
    {
     "name": "stdout",
     "output_type": "stream",
     "text": [
      "\n",
      "Processing chest_xray/chest_xray/test/NORMAL images\n"
     ]
    },
    {
     "data": {
      "application/vnd.jupyter.widget-view+json": {
       "model_id": "95f645c4dd844d0d8e22051311d2e81c",
       "version_major": 2,
       "version_minor": 0
      },
      "text/plain": [
       "HBox(children=(FloatProgress(value=0.0, max=234.0), HTML(value='')))"
      ]
     },
     "metadata": {
      "tags": []
     },
     "output_type": "display_data"
    },
    {
     "name": "stdout",
     "output_type": "stream",
     "text": [
      "\n",
      "Processing chest_xray/chest_xray/val/PNEUMONIA images\n"
     ]
    },
    {
     "data": {
      "application/vnd.jupyter.widget-view+json": {
       "model_id": "0ba51013dfec449791dbf9ac3817d07f",
       "version_major": 2,
       "version_minor": 0
      },
      "text/plain": [
       "HBox(children=(FloatProgress(value=0.0, max=9.0), HTML(value='')))"
      ]
     },
     "metadata": {
      "tags": []
     },
     "output_type": "display_data"
    },
    {
     "name": "stdout",
     "output_type": "stream",
     "text": [
      "\n",
      "Processing chest_xray/chest_xray/val/NORMAL images\n"
     ]
    },
    {
     "data": {
      "application/vnd.jupyter.widget-view+json": {
       "model_id": "945b2fd6b9c74aaf8c9fab4206401c4b",
       "version_major": 2,
       "version_minor": 0
      },
      "text/plain": [
       "HBox(children=(FloatProgress(value=0.0, max=9.0), HTML(value='')))"
      ]
     },
     "metadata": {
      "tags": []
     },
     "output_type": "display_data"
    },
    {
     "name": "stdout",
     "output_type": "stream",
     "text": [
      "\n"
     ]
    }
   ],
   "source": [
    "train_directory = path.join(dataset_path, 'train')\n",
    "test_directory = path.join(dataset_path, 'test')\n",
    "val_directory = path.join(dataset_path, 'val')\n",
    "\n",
    "X_train, y_train = read_imgs(train_directory)\n",
    "X_test, y_test = read_imgs(test_directory)\n",
    "X_val, y_val = read_imgs(val_directory)"
   ]
  },
  {
   "cell_type": "code",
   "execution_count": null,
   "metadata": {
    "colab": {
     "base_uri": "https://localhost:8080/",
     "height": 217
    },
    "id": "d4ueZX9x7Vdz",
    "outputId": "64ddc873-94b5-4880-d938-11e5eb28d29a"
   },
   "outputs": [
    {
     "data": {
      "image/png": "[encoded data removed]",
      "text/plain": [
       "<PIL.Image.Image image mode=L size=200x200 at 0x7FD9702E8B90>"
      ]
     },
     "metadata": {
      "tags": []
     },
     "output_type": "display_data"
    }
   ],
   "source": [
    "cv2_imshow(X_train[0])"
   ]
  },
  {
   "cell_type": "code",
   "execution_count": null,
   "metadata": {
    "id": "ZPJVPB9b3_sf"
   },
   "outputs": [],
   "source": [
    "# Shuffle data\n",
    "X_train, y_train = shuffle(X_train, y_train)\n",
    "X_test, y_test = shuffle(X_test, y_test)\n",
    "X_val, y_val = shuffle(X_val, y_val)"
   ]
  },
  {
   "cell_type": "code",
   "execution_count": null,
   "metadata": {
    "colab": {
     "base_uri": "https://localhost:8080/"
    },
    "id": "1XQeYhOjv6co",
    "outputId": "34f2c3d8-cfea-48af-cebd-fc2e626caf7e"
   },
   "outputs": [
    {
     "name": "stdout",
     "output_type": "stream",
     "text": [
      "X_train shape:  (5216, 200, 200, 1)\n",
      "X_test shape: , (624, 200, 200, 1)\n",
      "X_val shape: , (16, 200, 200, 1)\n"
     ]
    }
   ],
   "source": [
    "X_train = X_train.reshape((-1, 200, 200, 1))\n",
    "X_test = X_test.reshape((-1, 200, 200, 1))\n",
    "X_val = X_val.reshape((-1, 200, 200, 1))\n",
    "\n",
    "print(\"X_train shape: \", X_train.shape)\n",
    "print(\"X_test shape: ,\", X_test.shape)\n",
    "print(\"X_val shape: ,\", X_val.shape)"
   ]
  },
  {
   "cell_type": "code",
   "execution_count": null,
   "metadata": {
    "colab": {
     "base_uri": "https://localhost:8080/"
    },
    "id": "bVWexFx9dAR1",
    "outputId": "141f8a81-1fd7-492e-9b3f-e47cee114864"
   },
   "outputs": [
    {
     "name": "stdout",
     "output_type": "stream",
     "text": [
      "X_val shape:  (642, 200, 200, 1)\n"
     ]
    }
   ],
   "source": [
    "# Add more images to validation set from training set\n",
    "\n",
    "X_train, X_val2, y_train, y_val2 = train_test_split(X_train, y_train, test_size=0.12)\n",
    "X_val = np.append(X_val, X_val2, axis=0)\n",
    "y_val = np.append(y_val, y_val2, axis=0)\n",
    "print(\"X_val shape: \", X_val.shape)\n"
   ]
  },
  {
   "cell_type": "code",
   "execution_count": null,
   "metadata": {
    "colab": {
     "base_uri": "https://localhost:8080/",
     "height": 314
    },
    "id": "A5GCg9A4v6ji",
    "outputId": "015eda57-0934-49e0-8226-606b361baeb2"
   },
   "outputs": [
    {
     "name": "stdout",
     "output_type": "stream",
     "text": [
      "{0: 0.25664488017429193, 1: 0.743355119825708}\n"
     ]
    },
    {
     "data": {
      "image/png": "[encoded data removed]",
      "text/plain": [
       "<Figure size 432x288 with 1 Axes>"
      ]
     },
     "metadata": {
      "needs_background": "light",
      "tags": []
     },
     "output_type": "display_data"
    }
   ],
   "source": [
    "targets, count = np.unique(y_train, return_counts=True)\n",
    "\n",
    "class_weight={0:count[0]/X_train.shape[0], 1:count[1]/X_train.shape[0]}\n",
    "print(class_weight)\n",
    "\n",
    "plt.title(\"Training dataset\")\n",
    "plt.bar(targets, count, tick_label=targets)\n",
    "plt.xlabel(\"Targets\")\n",
    "plt.ylabel(\"Counts\")\n",
    "plt.show()"
   ]
  },
  {
   "cell_type": "code",
   "execution_count": null,
   "metadata": {
    "colab": {
     "base_uri": "https://localhost:8080/",
     "height": 314
    },
    "id": "0dF09RtMJSFO",
    "outputId": "91702987-0245-458e-864e-0cb9232aeff2"
   },
   "outputs": [
    {
     "name": "stdout",
     "output_type": "stream",
     "text": [
      "{0: 0.375, 1: 0.625}\n"
     ]
    },
    {
     "data": {
      "image/png": "[encoded data removed]",
      "text/plain": [
       "<Figure size 432x288 with 1 Axes>"
      ]
     },
     "metadata": {
      "needs_background": "light",
      "tags": []
     },
     "output_type": "display_data"
    }
   ],
   "source": [
    "targets, count = np.unique(y_test, return_counts=True)\n",
    "print({0:count[0]/X_test.shape[0], 1:count[1]/X_test.shape[0]})\n",
    "\n",
    "plt.title(\"Testing dataset\")\n",
    "plt.bar(targets, count, tick_label=targets)\n",
    "plt.xlabel(\"Targets\")\n",
    "plt.ylabel(\"Counts\")\n",
    "plt.show()"
   ]
  },
  {
   "cell_type": "code",
   "execution_count": null,
   "metadata": {
    "colab": {
     "base_uri": "https://localhost:8080/",
     "height": 314
    },
    "id": "Jg9DfHgcVQAN",
    "outputId": "241a0103-09f4-4993-d961-685e9cf11862"
   },
   "outputs": [
    {
     "name": "stdout",
     "output_type": "stream",
     "text": [
      "{0: 0.26635514018691586, 1: 0.7336448598130841}\n"
     ]
    },
    {
     "data": {
      "image/png": "[encoded data removed]",
      "text/plain": [
       "<Figure size 432x288 with 1 Axes>"
      ]
     },
     "metadata": {
      "needs_background": "light",
      "tags": []
     },
     "output_type": "display_data"
    }
   ],
   "source": [
    "targets, count = np.unique(y_val, return_counts=True)\n",
    "print({0:count[0]/X_val.shape[0], 1:count[1]/X_val.shape[0]})\n",
    "\n",
    "plt.title(\"Validation dataset\")\n",
    "plt.bar(targets, count, tick_label=targets)\n",
    "plt.xlabel(\"Targets\")\n",
    "plt.ylabel(\"Counts\")\n",
    "plt.show()"
   ]
  },
  {
   "cell_type": "code",
   "execution_count": null,
   "metadata": {
    "id": "tcRLnZFv9ELR"
   },
   "outputs": [],
   "source": [
    "datagen_train = ImageDataGenerator(\n",
    "  rescale=1./255,\n",
    "  width_shift_range=0.1,\n",
    "  height_shift_range=0.1,\n",
    "  rotation_range=10,  \n",
    "  zoom_range = 0.1, \n",
    ")\n",
    "\n",
    "datagen_test = ImageDataGenerator(\n",
    "  rescale=1./255\n",
    ")\n",
    "\n",
    "batch_size = 64\n",
    "train_iterator = datagen_train.flow(X_train, y_train, batch_size=batch_size)\n",
    "val_iterator = datagen_test.flow(X_val, y_val)"
   ]
  },
  {
   "cell_type": "code",
   "execution_count": null,
   "metadata": {
    "id": "g1EI_r9mg12W"
   },
   "outputs": [],
   "source": [
    "X_test = X_test/255"
   ]
  },
  {
   "cell_type": "code",
   "execution_count": null,
   "metadata": {
    "id": "Vz69Tpfjv6x5"
   },
   "outputs": [],
   "source": [
    "# Function for plotting epoch history\n",
    "def plot_loss_history(history, title):\n",
    "    loss = history.history['loss']\n",
    "\n",
    "    epochs = range(1, len(loss) + 1)\n",
    "\n",
    "    val_loss = history.history['val_loss']\n",
    "\n",
    "    plt.plot(epochs, loss, 'bo', label='Training loss')\n",
    "    plt.plot(epochs, val_loss, 'r', label='Validation loss')\n",
    "    plt.title(title)\n",
    "    plt.xlabel('Epochs')\n",
    "    plt.ylabel('Loss')\n",
    "    plt.legend()\n",
    "\n",
    "    plt.show()"
   ]
  },
  {
   "cell_type": "code",
   "execution_count": null,
   "metadata": {
    "colab": {
     "base_uri": "https://localhost:8080/"
    },
    "id": "3kl065-Qotbc",
    "outputId": "643883be-5328-4752-b061-cb35e7b8dca2"
   },
   "outputs": [
    {
     "name": "stdout",
     "output_type": "stream",
     "text": [
      "Epoch 1/18\n",
      "71/71 [==============================] - 16s 213ms/step - loss: 3.5354 - accuracy: 0.7504 - val_loss: 2.6173 - val_accuracy: 0.7656\n",
      "Epoch 2/18\n",
      "71/71 [==============================] - 15s 210ms/step - loss: 1.8798 - accuracy: 0.7518 - val_loss: 1.4363 - val_accuracy: 0.7281\n",
      "Epoch 3/18\n",
      "71/71 [==============================] - 15s 210ms/step - loss: 0.8609 - accuracy: 0.7523 - val_loss: 0.6516 - val_accuracy: 0.9156\n",
      "Epoch 4/18\n",
      "71/71 [==============================] - 15s 210ms/step - loss: 0.4586 - accuracy: 0.8290 - val_loss: 0.5131 - val_accuracy: 0.9250\n",
      "Epoch 5/18\n",
      "71/71 [==============================] - 15s 209ms/step - loss: 0.3640 - accuracy: 0.8695 - val_loss: 0.4822 - val_accuracy: 0.9219\n",
      "Epoch 6/18\n",
      "71/71 [==============================] - 15s 209ms/step - loss: 0.3221 - accuracy: 0.8766 - val_loss: 0.4180 - val_accuracy: 0.9469\n",
      "Epoch 7/18\n",
      "71/71 [==============================] - 15s 211ms/step - loss: 0.2786 - accuracy: 0.8964 - val_loss: 0.3764 - val_accuracy: 0.9344\n",
      "Epoch 8/18\n",
      "71/71 [==============================] - 15s 209ms/step - loss: 0.2721 - accuracy: 0.8858 - val_loss: 0.3364 - val_accuracy: 0.9719\n",
      "Epoch 9/18\n",
      "71/71 [==============================] - 15s 210ms/step - loss: 0.2393 - accuracy: 0.9004 - val_loss: 0.4302 - val_accuracy: 0.8719\n",
      "Epoch 10/18\n",
      "71/71 [==============================] - 15s 208ms/step - loss: 0.2371 - accuracy: 0.8892 - val_loss: 0.3375 - val_accuracy: 0.9281\n",
      "\n",
      "Epoch 00010: ReduceLROnPlateau reducing learning rate to 1.9999999494757503e-05.\n",
      "Epoch 00010: early stopping\n"
     ]
    }
   ],
   "source": [
    "\"\"\"\n",
    "MODEL 1 WITH EARLY STOPPING\n",
    "\"\"\"\n",
    "\n",
    "model = Sequential()\n",
    "model.add(Conv2D(64, kernel_size=(3, 3), activation='relu', input_shape=(200,200,1)))\n",
    "model.add(MaxPool2D(pool_size=(2, 2)))\n",
    "\n",
    "model.add(Conv2D(64, kernel_size=(3, 3), activation='relu'))\n",
    "model.add(MaxPool2D(pool_size=(2, 2)))\n",
    "\n",
    "model.add(Conv2D(128, kernel_size=(3, 3), activation='relu'))\n",
    "model.add(Dropout(0.1))\n",
    "model.add(MaxPool2D(pool_size=(2, 2)))\n",
    "\n",
    "model.add(Conv2D(128, kernel_size=(3, 3), activation='relu'))\n",
    "model.add(Dropout(0.1))\n",
    "model.add(MaxPool2D(pool_size=(2, 2)))\n",
    "\n",
    "model.add(Flatten())\n",
    "model.add(Dropout(0.2))\n",
    "model.add(Dense(256, kernel_regularizer=regularizers.l1(1e-4), activation='relu'))\n",
    "\n",
    "model.add(Dropout(0.1))\n",
    "model.add(Dense(128, kernel_regularizer=regularizers.l1(1e-4), activation='relu'))\n",
    "\n",
    "model.add(Dense(1, activation='sigmoid'))\n",
    "\n",
    "opt = Adam(learning_rate=0.0001)\n",
    "\n",
    "model.compile(optimizer=opt, loss='binary_crossentropy', metrics=['accuracy'])\n",
    "\n",
    "\n",
    "es = EarlyStopping(monitor='val_loss', mode='min', verbose=1, patience=2)\n",
    "\n",
    "history = model.fit(\n",
    "    train_iterator,\n",
    "    validation_data=val_iterator, \n",
    "    epochs=18, \n",
    "    verbose=1, \n",
    "    class_weight=class_weight,\n",
    "    steps_per_epoch=X_train.shape[0] // batch_size,\n",
    "    validation_steps=X_val.shape[0] // batch_size,  \n",
    "    callbacks=[es] \n",
    "  )"
   ]
  },
  {
   "cell_type": "code",
   "execution_count": null,
   "metadata": {
    "colab": {
     "base_uri": "https://localhost:8080/",
     "height": 295
    },
    "id": "0G023CYLtLOL",
    "outputId": "0c9c7d6f-acf2-4a9d-b6cd-7894fdc06518"
   },
   "outputs": [
    {
     "data": {
      "image/png": "[encoded data removed]",
      "text/plain": [
       "<Figure size 432x288 with 1 Axes>"
      ]
     },
     "metadata": {
      "needs_background": "light",
      "tags": []
     },
     "output_type": "display_data"
    }
   ],
   "source": [
    "plot_loss_history(history,\"loss\")"
   ]
  },
  {
   "cell_type": "code",
   "execution_count": null,
   "metadata": {
    "colab": {
     "base_uri": "https://localhost:8080/",
     "height": 488
    },
    "id": "DGnPpZGgM9_C",
    "outputId": "72424c44-76ba-4e36-ab55-56ad032db5b6"
   },
   "outputs": [
    {
     "name": "stdout",
     "output_type": "stream",
     "text": [
      "10/10 [==============================] - 0s 44ms/step - loss: 0.4461 - accuracy: 0.8798\n",
      "test loss, test acc: [0.44611456990242004, 0.879807710647583]\n",
      "              precision    recall  f1-score   support\n",
      "\n",
      "           0       0.77      0.90      0.83       201\n",
      "           1       0.95      0.87      0.91       423\n",
      "\n",
      "    accuracy                           0.88       624\n",
      "   macro avg       0.86      0.88      0.87       624\n",
      "weighted avg       0.89      0.88      0.88       624\n",
      "\n"
     ]
    },
    {
     "data": {
      "text/plain": [
       "<matplotlib.axes._subplots.AxesSubplot at 0x7fd90642d6d0>"
      ]
     },
     "execution_count": 26,
     "metadata": {
      "tags": []
     },
     "output_type": "execute_result"
    },
    {
     "data": {
      "image/png": "[encoded data removed]",
      "text/plain": [
       "<Figure size 432x288 with 2 Axes>"
      ]
     },
     "metadata": {
      "needs_background": "light",
      "tags": []
     },
     "output_type": "display_data"
    }
   ],
   "source": [
    "results = model.evaluate(X_test, y_test, batch_size=64)\n",
    "print(\"test loss, test acc:\", results)\n",
    "\n",
    "predictions = model.predict(X_test)\n",
    "predictions = np.where(predictions > 0.5, 1, 0)\n",
    "print(classification_report(predictions, y_test))\n",
    "cm = confusion_matrix(predictions, y_test)\n",
    "sns.heatmap(cm, annot=True)"
   ]
  },
  {
   "cell_type": "code",
   "execution_count": null,
   "metadata": {
    "colab": {
     "base_uri": "https://localhost:8080/",
     "height": 1000
    },
    "id": "p1Y9LDUqnqiK",
    "outputId": "b465635f-105b-439f-f59e-67bcff6057cb"
   },
   "outputs": [
    {
     "name": "stdout",
     "output_type": "stream",
     "text": [
      "Epoch 1/20\n",
      "71/71 [==============================] - 16s 214ms/step - loss: 0.9875 - accuracy: 0.7373 - val_loss: 1.2492 - val_accuracy: 0.7188\n",
      "Epoch 2/20\n",
      "71/71 [==============================] - 15s 211ms/step - loss: 0.8412 - accuracy: 0.7423 - val_loss: 1.1786 - val_accuracy: 0.7000\n",
      "Epoch 3/20\n",
      "71/71 [==============================] - 15s 211ms/step - loss: 0.7533 - accuracy: 0.7383 - val_loss: 0.9274 - val_accuracy: 0.8969\n",
      "Epoch 4/20\n",
      "71/71 [==============================] - 15s 211ms/step - loss: 0.6508 - accuracy: 0.7903 - val_loss: 0.8435 - val_accuracy: 0.8844\n",
      "Epoch 5/20\n",
      "71/71 [==============================] - 15s 210ms/step - loss: 0.5816 - accuracy: 0.8169 - val_loss: 0.7574 - val_accuracy: 0.9281\n",
      "Epoch 6/20\n",
      "71/71 [==============================] - 15s 211ms/step - loss: 0.5212 - accuracy: 0.8474 - val_loss: 0.7290 - val_accuracy: 0.9000\n",
      "Epoch 7/20\n",
      "71/71 [==============================] - 15s 212ms/step - loss: 0.4576 - accuracy: 0.8750 - val_loss: 0.7228 - val_accuracy: 0.7937\n",
      "Epoch 8/20\n",
      "71/71 [==============================] - 15s 213ms/step - loss: 0.4214 - accuracy: 0.8917 - val_loss: 0.5457 - val_accuracy: 0.9344\n",
      "Epoch 9/20\n",
      "71/71 [==============================] - 15s 213ms/step - loss: 0.3867 - accuracy: 0.8868 - val_loss: 0.5357 - val_accuracy: 0.8969\n",
      "Epoch 10/20\n",
      "71/71 [==============================] - 15s 213ms/step - loss: 0.3340 - accuracy: 0.9160 - val_loss: 0.4638 - val_accuracy: 0.9250\n",
      "Epoch 11/20\n",
      "71/71 [==============================] - 15s 212ms/step - loss: 0.3085 - accuracy: 0.9058 - val_loss: 0.4529 - val_accuracy: 0.9406\n",
      "Epoch 12/20\n",
      "71/71 [==============================] - 15s 211ms/step - loss: 0.2884 - accuracy: 0.9042 - val_loss: 0.4137 - val_accuracy: 0.9250\n",
      "Epoch 13/20\n",
      "71/71 [==============================] - 15s 210ms/step - loss: 0.2585 - accuracy: 0.9125 - val_loss: 0.3662 - val_accuracy: 0.9375\n",
      "Epoch 14/20\n",
      "71/71 [==============================] - 15s 210ms/step - loss: 0.2364 - accuracy: 0.9235 - val_loss: 0.4095 - val_accuracy: 0.9312\n",
      "Epoch 15/20\n",
      "71/71 [==============================] - 15s 211ms/step - loss: 0.2250 - accuracy: 0.9191 - val_loss: 0.3418 - val_accuracy: 0.9344\n",
      "Epoch 16/20\n",
      "71/71 [==============================] - 15s 212ms/step - loss: 0.2099 - accuracy: 0.9276 - val_loss: 0.3153 - val_accuracy: 0.9469\n",
      "Epoch 17/20\n",
      "71/71 [==============================] - 15s 212ms/step - loss: 0.2045 - accuracy: 0.9216 - val_loss: 0.3430 - val_accuracy: 0.9187\n",
      "Epoch 18/20\n",
      "71/71 [==============================] - 15s 209ms/step - loss: 0.1943 - accuracy: 0.9319 - val_loss: 0.3219 - val_accuracy: 0.9531\n",
      "Epoch 19/20\n",
      "71/71 [==============================] - 15s 210ms/step - loss: 0.1791 - accuracy: 0.9452 - val_loss: 0.2840 - val_accuracy: 0.9625\n",
      "Epoch 20/20\n",
      "71/71 [==============================] - 15s 211ms/step - loss: 0.1681 - accuracy: 0.9423 - val_loss: 0.3060 - val_accuracy: 0.9594\n"
     ]
    },
    {
     "data": {
      "image/png": "[encoded data removed]",
      "text/plain": [
       "<Figure size 432x288 with 1 Axes>"
      ]
     },
     "metadata": {
      "needs_background": "light",
      "tags": []
     },
     "output_type": "display_data"
    }
   ],
   "source": [
    "\"\"\"\n",
    "MODEL 2 WITH 20 EPOCHS\n",
    "\"\"\"\n",
    "\n",
    "model = Sequential()\n",
    "model.add(Conv2D(64, kernel_size=(3, 3), activation='relu', input_shape=(200,200,1)))\n",
    "model.add(MaxPool2D(pool_size=(2, 2)))\n",
    "\n",
    "model.add(Conv2D(64, kernel_size=(3, 3), activation='relu'))\n",
    "model.add(MaxPool2D(pool_size=(2, 2)))\n",
    "\n",
    "model.add(Conv2D(128, kernel_size=(3, 3), activation='relu'))\n",
    "model.add(Dropout(0.1))\n",
    "model.add(MaxPool2D(pool_size=(2, 2)))\n",
    "\n",
    "model.add(Conv2D(128, kernel_size=(3, 3), activation='relu'))\n",
    "model.add(Dropout(0.1))\n",
    "model.add(MaxPool2D(pool_size=(2, 2)))\n",
    "\n",
    "model.add(Conv2D(256, kernel_size=(3, 3), activation='relu'))\n",
    "model.add(Dropout(0.2))\n",
    "model.add(MaxPool2D(pool_size=(2, 2)))\n",
    "\n",
    "model.add(Conv2D(256, kernel_size=(3, 3), activation='relu'))\n",
    "model.add(Dropout(0.2))\n",
    "model.add(MaxPool2D(pool_size=(2, 2)))\n",
    "\n",
    "model.add(Flatten())\n",
    "model.add(Dropout(0.2))\n",
    "model.add(Dense(256, kernel_regularizer=regularizers.l1(1e-4), activation='relu'))\n",
    "\n",
    "model.add(Flatten())\n",
    "model.add(Dropout(0.2))\n",
    "model.add(Dense(256, kernel_regularizer=regularizers.l1(1e-4), activation='relu'))\n",
    "\n",
    "model.add(Dense(1, activation='sigmoid'))\n",
    "\n",
    "opt = Adam(learning_rate=0.0001)\n",
    "\n",
    "\n",
    "model.compile(optimizer=opt, loss='binary_crossentropy', metrics=['accuracy'])\n",
    "\n",
    "history = model.fit(\n",
    "    train_iterator,\n",
    "    validation_data=val_iterator, \n",
    "    epochs=20, \n",
    "    verbose=1, \n",
    "    class_weight=class_weight,\n",
    "    steps_per_epoch=X_train.shape[0] // batch_size,\n",
    "    validation_steps=X_val.shape[0] // batch_size,  \n",
    "  )\n",
    "plot_loss_history(history,\"loss\")"
   ]
  },
  {
   "cell_type": "code",
   "execution_count": null,
   "metadata": {
    "colab": {
     "base_uri": "https://localhost:8080/",
     "height": 488
    },
    "id": "1ewX2nU8zVb8",
    "outputId": "5bccd104-8195-4617-e7aa-6a15bd65ea0e"
   },
   "outputs": [
    {
     "name": "stdout",
     "output_type": "stream",
     "text": [
      "10/10 [==============================] - 1s 44ms/step - loss: 0.4672 - accuracy: 0.8462\n",
      "test loss, test acc: [0.4671759009361267, 0.8461538553237915]\n",
      "              precision    recall  f1-score   support\n",
      "\n",
      "           0       0.61      0.97      0.75       146\n",
      "           1       0.99      0.81      0.89       478\n",
      "\n",
      "    accuracy                           0.85       624\n",
      "   macro avg       0.80      0.89      0.82       624\n",
      "weighted avg       0.90      0.85      0.86       624\n",
      "\n"
     ]
    },
    {
     "data": {
      "text/plain": [
       "<matplotlib.axes._subplots.AxesSubplot at 0x7fd9066daf50>"
      ]
     },
     "execution_count": 40,
     "metadata": {
      "tags": []
     },
     "output_type": "execute_result"
    },
    {
     "data": {
      "image/png": "[encoded data removed]",
      "text/plain": [
       "<Figure size 432x288 with 2 Axes>"
      ]
     },
     "metadata": {
      "needs_background": "light",
      "tags": []
     },
     "output_type": "display_data"
    }
   ],
   "source": [
    "results = model.evaluate(X_test, y_test, batch_size=64)\n",
    "print(\"test loss, test acc:\", results)\n",
    "\n",
    "predictions = model.predict(X_test)\n",
    "predictions = np.where(predictions > 0.5, 1, 0)\n",
    "print(classification_report(predictions, y_test))\n",
    "cm = confusion_matrix(predictions, y_test)\n",
    "sns.heatmap(cm, annot=True)"
   ]
  },
  {
   "cell_type": "code",
   "execution_count": null,
   "metadata": {
    "colab": {
     "base_uri": "https://localhost:8080/",
     "height": 1000
    },
    "id": "nAbM8WyE7jND",
    "outputId": "7e75e955-344c-4271-f61c-380744367645"
   },
   "outputs": [
    {
     "name": "stdout",
     "output_type": "stream",
     "text": [
      "Epoch 1/45\n",
      "71/71 [==============================] - 15s 207ms/step - loss: 0.9835 - accuracy: 0.7235 - val_loss: 1.2050 - val_accuracy: 0.7563\n",
      "Epoch 2/45\n",
      "71/71 [==============================] - 15s 206ms/step - loss: 0.8424 - accuracy: 0.7486 - val_loss: 1.1901 - val_accuracy: 0.7094\n",
      "Epoch 3/45\n",
      "71/71 [==============================] - 15s 207ms/step - loss: 0.7827 - accuracy: 0.7429 - val_loss: 1.0657 - val_accuracy: 0.7406\n",
      "Epoch 4/45\n",
      "71/71 [==============================] - 15s 207ms/step - loss: 0.6928 - accuracy: 0.7528 - val_loss: 0.8756 - val_accuracy: 0.8531\n",
      "Epoch 5/45\n",
      "71/71 [==============================] - 15s 207ms/step - loss: 0.6021 - accuracy: 0.8090 - val_loss: 0.7345 - val_accuracy: 0.8906\n",
      "Epoch 6/45\n",
      "71/71 [==============================] - 15s 206ms/step - loss: 0.5215 - accuracy: 0.8572 - val_loss: 0.7707 - val_accuracy: 0.8438\n",
      "Epoch 7/45\n",
      "71/71 [==============================] - 15s 208ms/step - loss: 0.4819 - accuracy: 0.8651 - val_loss: 0.6006 - val_accuracy: 0.9281\n",
      "Epoch 8/45\n",
      "71/71 [==============================] - 15s 207ms/step - loss: 0.4306 - accuracy: 0.8775 - val_loss: 0.5707 - val_accuracy: 0.8562\n",
      "Epoch 9/45\n",
      "71/71 [==============================] - 15s 207ms/step - loss: 0.3915 - accuracy: 0.8865 - val_loss: 0.5131 - val_accuracy: 0.9062\n",
      "Epoch 10/45\n",
      "71/71 [==============================] - 15s 207ms/step - loss: 0.3647 - accuracy: 0.8909 - val_loss: 0.4795 - val_accuracy: 0.9344\n",
      "Epoch 11/45\n",
      "71/71 [==============================] - 15s 207ms/step - loss: 0.3292 - accuracy: 0.8987 - val_loss: 0.4698 - val_accuracy: 0.9219\n",
      "Epoch 12/45\n",
      "71/71 [==============================] - 15s 208ms/step - loss: 0.2985 - accuracy: 0.9184 - val_loss: 0.4141 - val_accuracy: 0.9563\n",
      "Epoch 13/45\n",
      "71/71 [==============================] - 15s 207ms/step - loss: 0.2823 - accuracy: 0.9066 - val_loss: 0.3626 - val_accuracy: 0.9563\n",
      "Epoch 14/45\n",
      "71/71 [==============================] - 15s 208ms/step - loss: 0.2589 - accuracy: 0.9150 - val_loss: 0.4522 - val_accuracy: 0.9000\n",
      "Epoch 15/45\n",
      "71/71 [==============================] - 15s 206ms/step - loss: 0.2395 - accuracy: 0.9305 - val_loss: 0.3345 - val_accuracy: 0.9594\n",
      "Epoch 16/45\n",
      "71/71 [==============================] - 15s 207ms/step - loss: 0.2337 - accuracy: 0.9211 - val_loss: 0.3416 - val_accuracy: 0.9531\n",
      "Epoch 17/45\n",
      "71/71 [==============================] - 15s 207ms/step - loss: 0.2159 - accuracy: 0.9346 - val_loss: 0.3878 - val_accuracy: 0.9062\n",
      "Epoch 18/45\n",
      "71/71 [==============================] - 15s 208ms/step - loss: 0.2226 - accuracy: 0.9192 - val_loss: 0.3400 - val_accuracy: 0.9500\n",
      "Epoch 19/45\n",
      "71/71 [==============================] - 15s 209ms/step - loss: 0.2102 - accuracy: 0.9245 - val_loss: 0.3027 - val_accuracy: 0.9594\n",
      "Epoch 20/45\n",
      "71/71 [==============================] - 15s 208ms/step - loss: 0.1933 - accuracy: 0.9366 - val_loss: 0.3032 - val_accuracy: 0.9438\n",
      "Epoch 21/45\n",
      "71/71 [==============================] - 15s 208ms/step - loss: 0.1895 - accuracy: 0.9270 - val_loss: 0.2526 - val_accuracy: 0.9688\n",
      "Epoch 22/45\n",
      "71/71 [==============================] - 15s 207ms/step - loss: 0.1797 - accuracy: 0.9347 - val_loss: 0.2588 - val_accuracy: 0.9688\n",
      "Epoch 23/45\n",
      "71/71 [==============================] - 15s 209ms/step - loss: 0.1637 - accuracy: 0.9482 - val_loss: 0.2648 - val_accuracy: 0.9625\n",
      "Epoch 24/45\n",
      "71/71 [==============================] - 15s 208ms/step - loss: 0.1636 - accuracy: 0.9440 - val_loss: 0.2501 - val_accuracy: 0.9469\n",
      "Epoch 25/45\n",
      "71/71 [==============================] - 15s 207ms/step - loss: 0.1604 - accuracy: 0.9468 - val_loss: 0.3170 - val_accuracy: 0.9312\n",
      "Epoch 26/45\n",
      "71/71 [==============================] - 15s 206ms/step - loss: 0.1564 - accuracy: 0.9369 - val_loss: 0.2582 - val_accuracy: 0.9469\n",
      "Epoch 27/45\n",
      "71/71 [==============================] - 15s 208ms/step - loss: 0.1491 - accuracy: 0.9468 - val_loss: 0.2402 - val_accuracy: 0.9438\n",
      "Epoch 28/45\n",
      "71/71 [==============================] - 15s 207ms/step - loss: 0.1421 - accuracy: 0.9472 - val_loss: 0.3147 - val_accuracy: 0.9187\n",
      "Epoch 29/45\n",
      "71/71 [==============================] - 15s 208ms/step - loss: 0.1427 - accuracy: 0.9427 - val_loss: 0.2246 - val_accuracy: 0.9594\n",
      "Epoch 30/45\n",
      "71/71 [==============================] - 15s 207ms/step - loss: 0.1344 - accuracy: 0.9463 - val_loss: 0.2278 - val_accuracy: 0.9531\n",
      "Epoch 31/45\n",
      "71/71 [==============================] - 15s 207ms/step - loss: 0.1282 - accuracy: 0.9544 - val_loss: 0.2195 - val_accuracy: 0.9656\n",
      "Epoch 32/45\n",
      "71/71 [==============================] - 15s 207ms/step - loss: 0.1322 - accuracy: 0.9466 - val_loss: 0.2024 - val_accuracy: 0.9719\n",
      "Epoch 33/45\n",
      "71/71 [==============================] - 15s 207ms/step - loss: 0.1234 - accuracy: 0.9543 - val_loss: 0.2511 - val_accuracy: 0.9438\n",
      "Epoch 34/45\n",
      "71/71 [==============================] - 15s 209ms/step - loss: 0.1184 - accuracy: 0.9510 - val_loss: 0.2190 - val_accuracy: 0.9594\n",
      "Epoch 35/45\n",
      "71/71 [==============================] - 15s 208ms/step - loss: 0.1194 - accuracy: 0.9554 - val_loss: 0.2019 - val_accuracy: 0.9656\n",
      "Epoch 36/45\n",
      "71/71 [==============================] - 15s 207ms/step - loss: 0.1133 - accuracy: 0.9527 - val_loss: 0.2140 - val_accuracy: 0.9594\n",
      "Epoch 37/45\n",
      "71/71 [==============================] - 15s 207ms/step - loss: 0.1111 - accuracy: 0.9536 - val_loss: 0.1837 - val_accuracy: 0.9594\n",
      "Epoch 38/45\n",
      "71/71 [==============================] - 15s 208ms/step - loss: 0.1111 - accuracy: 0.9526 - val_loss: 0.1927 - val_accuracy: 0.9625\n",
      "Epoch 39/45\n",
      "71/71 [==============================] - 15s 210ms/step - loss: 0.1030 - accuracy: 0.9559 - val_loss: 0.1956 - val_accuracy: 0.9563\n",
      "Epoch 40/45\n",
      "71/71 [==============================] - 15s 209ms/step - loss: 0.1054 - accuracy: 0.9528 - val_loss: 0.1847 - val_accuracy: 0.9688\n",
      "Epoch 41/45\n",
      "71/71 [==============================] - 15s 209ms/step - loss: 0.0977 - accuracy: 0.9579 - val_loss: 0.2124 - val_accuracy: 0.9500\n",
      "Epoch 42/45\n",
      "71/71 [==============================] - 15s 207ms/step - loss: 0.0956 - accuracy: 0.9612 - val_loss: 0.1958 - val_accuracy: 0.9500\n",
      "Epoch 43/45\n",
      "71/71 [==============================] - 15s 209ms/step - loss: 0.0980 - accuracy: 0.9539 - val_loss: 0.1712 - val_accuracy: 0.9625\n",
      "Epoch 44/45\n",
      "71/71 [==============================] - 15s 209ms/step - loss: 0.0872 - accuracy: 0.9626 - val_loss: 0.1593 - val_accuracy: 0.9563\n",
      "Epoch 45/45\n",
      "71/71 [==============================] - 15s 209ms/step - loss: 0.0834 - accuracy: 0.9690 - val_loss: 0.1731 - val_accuracy: 0.9625\n"
     ]
    },
    {
     "data": {
      "image/png": "[encoded data removed]",
      "text/plain": [
       "<Figure size 432x288 with 1 Axes>"
      ]
     },
     "metadata": {
      "needs_background": "light",
      "tags": []
     },
     "output_type": "display_data"
    },
    {
     "name": "stdout",
     "output_type": "stream",
     "text": [
      "10/10 [==============================] - 1s 42ms/step - loss: 0.3969 - accuracy: 0.8478\n",
      "test loss, test acc: [0.39689695835113525, 0.8477563858032227]\n",
      "              precision    recall  f1-score   support\n",
      "\n",
      "           0       0.61      0.97      0.75       147\n",
      "           1       0.99      0.81      0.89       477\n",
      "\n",
      "    accuracy                           0.85       624\n",
      "   macro avg       0.80      0.89      0.82       624\n",
      "weighted avg       0.90      0.85      0.86       624\n",
      "\n"
     ]
    },
    {
     "data": {
      "text/plain": [
       "<matplotlib.axes._subplots.AxesSubplot at 0x7fd9062a76d0>"
      ]
     },
     "execution_count": 49,
     "metadata": {
      "tags": []
     },
     "output_type": "execute_result"
    },
    {
     "data": {
      "image/png": "[encoded data removed]",
      "text/plain": [
       "<Figure size 432x288 with 2 Axes>"
      ]
     },
     "metadata": {
      "needs_background": "light",
      "tags": []
     },
     "output_type": "display_data"
    }
   ],
   "source": [
    "\"\"\"\n",
    "MODEL 2 TRAINING FOR 45 EPOCHS\n",
    "\"\"\"\n",
    "\n",
    "model = Sequential()\n",
    "model.add(Conv2D(64, kernel_size=(3, 3), activation='relu', input_shape=(200,200,1)))\n",
    "model.add(MaxPool2D(pool_size=(2, 2)))\n",
    "\n",
    "model.add(Conv2D(64, kernel_size=(3, 3), activation='relu'))\n",
    "model.add(MaxPool2D(pool_size=(2, 2)))\n",
    "\n",
    "model.add(Conv2D(128, kernel_size=(3, 3), activation='relu'))\n",
    "model.add(Dropout(0.1))\n",
    "model.add(MaxPool2D(pool_size=(2, 2)))\n",
    "\n",
    "model.add(Conv2D(128, kernel_size=(3, 3), activation='relu'))\n",
    "model.add(Dropout(0.1))\n",
    "model.add(MaxPool2D(pool_size=(2, 2)))\n",
    "\n",
    "model.add(Conv2D(256, kernel_size=(3, 3), activation='relu'))\n",
    "model.add(Dropout(0.2))\n",
    "model.add(MaxPool2D(pool_size=(2, 2)))\n",
    "\n",
    "model.add(Conv2D(256, kernel_size=(3, 3), activation='relu'))\n",
    "model.add(Dropout(0.2))\n",
    "model.add(MaxPool2D(pool_size=(2, 2)))\n",
    "\n",
    "model.add(Flatten())\n",
    "model.add(Dropout(0.2))\n",
    "model.add(Dense(256, kernel_regularizer=regularizers.l1(1e-4), activation='relu'))\n",
    "\n",
    "model.add(Flatten())\n",
    "model.add(Dropout(0.2))\n",
    "model.add(Dense(256, kernel_regularizer=regularizers.l1(1e-4), activation='relu'))\n",
    "\n",
    "model.add(Dense(1, activation='sigmoid'))\n",
    "\n",
    "opt = Adam(learning_rate=0.0001)\n",
    "\n",
    "\n",
    "model.compile(optimizer=opt, loss='binary_crossentropy', metrics=['accuracy'])\n",
    "\n",
    "reduce_lr = ReduceLROnPlateau(monitor='val_loss', factor=0.2,\n",
    "                              patience=2, min_lr=0.0000001, verbose=1)\n",
    "\n",
    "es = EarlyStopping(monitor='val_loss', mode='min', verbose=1, patience=2)\n",
    "\n",
    "history = model.fit(\n",
    "    train_iterator,\n",
    "    validation_data=val_iterator, \n",
    "    epochs=45, \n",
    "    verbose=1, \n",
    "    class_weight=class_weight,\n",
    "    steps_per_epoch=X_train.shape[0] // batch_size,\n",
    "    validation_steps=X_val.shape[0] // batch_size,  \n",
    "  )\n",
    "plot_loss_history(history,\"loss\")\n",
    "\n",
    "results = model.evaluate(X_test, y_test, batch_size=64)\n",
    "print(\"test loss, test acc:\", results)\n",
    "\n",
    "predictions = model.predict(X_test)\n",
    "predictions = np.where(predictions > 0.5, 1, 0)\n",
    "print(classification_report(predictions, y_test))\n",
    "cm = confusion_matrix(predictions, y_test)\n",
    "sns.heatmap(cm, annot=True)"
   ]
  },
  {
   "cell_type": "code",
   "execution_count": null,
   "metadata": {
    "colab": {
     "base_uri": "https://localhost:8080/",
     "height": 1000
    },
    "id": "V9nJDhtYKlV1",
    "outputId": "09f2d644-d2ae-4bcf-c4d6-f62fa8c41f58"
   },
   "outputs": [
    {
     "name": "stdout",
     "output_type": "stream",
     "text": [
      "Epoch 1/45\n",
      "71/71 [==============================] - 15s 208ms/step - loss: 3.5308 - accuracy: 0.7304 - val_loss: 2.5974 - val_accuracy: 0.7594\n",
      "Epoch 2/45\n",
      "71/71 [==============================] - 15s 207ms/step - loss: 1.8780 - accuracy: 0.7462 - val_loss: 1.3001 - val_accuracy: 0.7250\n",
      "Epoch 3/45\n",
      "71/71 [==============================] - 15s 207ms/step - loss: 0.8768 - accuracy: 0.7584 - val_loss: 0.7217 - val_accuracy: 0.8750\n",
      "Epoch 4/45\n",
      "71/71 [==============================] - 15s 207ms/step - loss: 0.4886 - accuracy: 0.8369 - val_loss: 0.5267 - val_accuracy: 0.9469\n",
      "Epoch 5/45\n",
      "71/71 [==============================] - 15s 207ms/step - loss: 0.4002 - accuracy: 0.8606 - val_loss: 0.5065 - val_accuracy: 0.9156\n",
      "Epoch 6/45\n",
      "71/71 [==============================] - 15s 207ms/step - loss: 0.3521 - accuracy: 0.8651 - val_loss: 0.4269 - val_accuracy: 0.9406\n",
      "Epoch 7/45\n",
      "71/71 [==============================] - 15s 208ms/step - loss: 0.3113 - accuracy: 0.8937 - val_loss: 0.4023 - val_accuracy: 0.9594\n",
      "Epoch 8/45\n",
      "71/71 [==============================] - 15s 207ms/step - loss: 0.2853 - accuracy: 0.8886 - val_loss: 0.4228 - val_accuracy: 0.9125\n",
      "Epoch 9/45\n",
      "71/71 [==============================] - 15s 206ms/step - loss: 0.2665 - accuracy: 0.8939 - val_loss: 0.3488 - val_accuracy: 0.9469\n",
      "Epoch 10/45\n",
      "71/71 [==============================] - 15s 208ms/step - loss: 0.2629 - accuracy: 0.8732 - val_loss: 0.3712 - val_accuracy: 0.9094\n",
      "Epoch 11/45\n",
      "71/71 [==============================] - 15s 207ms/step - loss: 0.2369 - accuracy: 0.8975 - val_loss: 0.3772 - val_accuracy: 0.9281\n",
      "Epoch 12/45\n",
      "71/71 [==============================] - 15s 208ms/step - loss: 0.2221 - accuracy: 0.8931 - val_loss: 0.3305 - val_accuracy: 0.9344\n",
      "Epoch 13/45\n",
      "71/71 [==============================] - 15s 208ms/step - loss: 0.2103 - accuracy: 0.9028 - val_loss: 0.2840 - val_accuracy: 0.9500\n",
      "Epoch 14/45\n",
      "71/71 [==============================] - 15s 208ms/step - loss: 0.2139 - accuracy: 0.8831 - val_loss: 0.2681 - val_accuracy: 0.9438\n",
      "Epoch 15/45\n",
      "71/71 [==============================] - 15s 206ms/step - loss: 0.1846 - accuracy: 0.9145 - val_loss: 0.3648 - val_accuracy: 0.8875\n",
      "Epoch 16/45\n",
      "71/71 [==============================] - 15s 207ms/step - loss: 0.1821 - accuracy: 0.9162 - val_loss: 0.3017 - val_accuracy: 0.9250\n",
      "Epoch 17/45\n",
      "71/71 [==============================] - 15s 206ms/step - loss: 0.1716 - accuracy: 0.9135 - val_loss: 0.2697 - val_accuracy: 0.9344\n",
      "Epoch 18/45\n",
      "71/71 [==============================] - 15s 207ms/step - loss: 0.1710 - accuracy: 0.9042 - val_loss: 0.2503 - val_accuracy: 0.9438\n",
      "Epoch 19/45\n",
      "71/71 [==============================] - 15s 208ms/step - loss: 0.1606 - accuracy: 0.9165 - val_loss: 0.2869 - val_accuracy: 0.9281\n",
      "Epoch 20/45\n",
      "71/71 [==============================] - 15s 208ms/step - loss: 0.1708 - accuracy: 0.9011 - val_loss: 0.2699 - val_accuracy: 0.9375\n",
      "Epoch 21/45\n",
      "71/71 [==============================] - 15s 206ms/step - loss: 0.1515 - accuracy: 0.9184 - val_loss: 0.2785 - val_accuracy: 0.9250\n",
      "Epoch 22/45\n",
      "71/71 [==============================] - 15s 206ms/step - loss: 0.1467 - accuracy: 0.9218 - val_loss: 0.2390 - val_accuracy: 0.9438\n",
      "Epoch 23/45\n",
      "71/71 [==============================] - 15s 207ms/step - loss: 0.1461 - accuracy: 0.9238 - val_loss: 0.2767 - val_accuracy: 0.9125\n",
      "Epoch 24/45\n",
      "71/71 [==============================] - 15s 208ms/step - loss: 0.1439 - accuracy: 0.9187 - val_loss: 0.2425 - val_accuracy: 0.9406\n",
      "Epoch 25/45\n",
      "71/71 [==============================] - 15s 208ms/step - loss: 0.1509 - accuracy: 0.9070 - val_loss: 0.2501 - val_accuracy: 0.9406\n",
      "Epoch 26/45\n",
      "71/71 [==============================] - 15s 207ms/step - loss: 0.1383 - accuracy: 0.9214 - val_loss: 0.2611 - val_accuracy: 0.9312\n",
      "Epoch 27/45\n",
      "71/71 [==============================] - 15s 207ms/step - loss: 0.1314 - accuracy: 0.9277 - val_loss: 0.1898 - val_accuracy: 0.9563\n",
      "Epoch 28/45\n",
      "71/71 [==============================] - 15s 207ms/step - loss: 0.1358 - accuracy: 0.9227 - val_loss: 0.2023 - val_accuracy: 0.9563\n",
      "Epoch 29/45\n",
      "71/71 [==============================] - 15s 208ms/step - loss: 0.1285 - accuracy: 0.9291 - val_loss: 0.2322 - val_accuracy: 0.9344\n",
      "Epoch 30/45\n",
      "71/71 [==============================] - 15s 208ms/step - loss: 0.1223 - accuracy: 0.9272 - val_loss: 0.2329 - val_accuracy: 0.9312\n",
      "Epoch 31/45\n",
      "71/71 [==============================] - 15s 206ms/step - loss: 0.1281 - accuracy: 0.9273 - val_loss: 0.2383 - val_accuracy: 0.9344\n",
      "Epoch 32/45\n",
      "71/71 [==============================] - 15s 206ms/step - loss: 0.1279 - accuracy: 0.9213 - val_loss: 0.2542 - val_accuracy: 0.9219\n",
      "Epoch 33/45\n",
      "71/71 [==============================] - 15s 207ms/step - loss: 0.1290 - accuracy: 0.9219 - val_loss: 0.2046 - val_accuracy: 0.9500\n",
      "Epoch 34/45\n",
      "71/71 [==============================] - 15s 209ms/step - loss: 0.1175 - accuracy: 0.9263 - val_loss: 0.1994 - val_accuracy: 0.9531\n",
      "Epoch 35/45\n",
      "71/71 [==============================] - 15s 207ms/step - loss: 0.1157 - accuracy: 0.9340 - val_loss: 0.1963 - val_accuracy: 0.9531\n",
      "Epoch 36/45\n",
      "71/71 [==============================] - 15s 209ms/step - loss: 0.1108 - accuracy: 0.9420 - val_loss: 0.1993 - val_accuracy: 0.9531\n",
      "Epoch 37/45\n",
      "71/71 [==============================] - 15s 208ms/step - loss: 0.1161 - accuracy: 0.9380 - val_loss: 0.2376 - val_accuracy: 0.9156\n",
      "Epoch 38/45\n",
      "71/71 [==============================] - 15s 208ms/step - loss: 0.1090 - accuracy: 0.9395 - val_loss: 0.1607 - val_accuracy: 0.9625\n",
      "Epoch 39/45\n",
      "71/71 [==============================] - 15s 207ms/step - loss: 0.1183 - accuracy: 0.9288 - val_loss: 0.2090 - val_accuracy: 0.9531\n",
      "Epoch 40/45\n",
      "71/71 [==============================] - 15s 208ms/step - loss: 0.1062 - accuracy: 0.9429 - val_loss: 0.1525 - val_accuracy: 0.9656\n",
      "Epoch 41/45\n",
      "71/71 [==============================] - 15s 211ms/step - loss: 0.1079 - accuracy: 0.9348 - val_loss: 0.2151 - val_accuracy: 0.9406\n",
      "Epoch 42/45\n",
      "71/71 [==============================] - 15s 212ms/step - loss: 0.1025 - accuracy: 0.9445 - val_loss: 0.1968 - val_accuracy: 0.9469\n",
      "Epoch 43/45\n",
      "71/71 [==============================] - 15s 213ms/step - loss: 0.1069 - accuracy: 0.9390 - val_loss: 0.1804 - val_accuracy: 0.9500\n",
      "Epoch 44/45\n",
      "71/71 [==============================] - 15s 214ms/step - loss: 0.1049 - accuracy: 0.9334 - val_loss: 0.2060 - val_accuracy: 0.9625\n",
      "Epoch 45/45\n",
      "71/71 [==============================] - 15s 213ms/step - loss: 0.0997 - accuracy: 0.9415 - val_loss: 0.1897 - val_accuracy: 0.9531\n"
     ]
    },
    {
     "data": {
      "image/png": "[encoded data removed]",
      "text/plain": [
       "<Figure size 432x288 with 1 Axes>"
      ]
     },
     "metadata": {
      "needs_background": "light",
      "tags": []
     },
     "output_type": "display_data"
    },
    {
     "name": "stdout",
     "output_type": "stream",
     "text": [
      "10/10 [==============================] - 1s 41ms/step - loss: 0.3577 - accuracy: 0.8798\n",
      "test loss, test acc: [0.35767677426338196, 0.879807710647583]\n",
      "              precision    recall  f1-score   support\n",
      "\n",
      "           0       0.71      0.95      0.82       175\n",
      "           1       0.98      0.85      0.91       449\n",
      "\n",
      "    accuracy                           0.88       624\n",
      "   macro avg       0.85      0.90      0.86       624\n",
      "weighted avg       0.90      0.88      0.88       624\n",
      "\n"
     ]
    },
    {
     "data": {
      "text/plain": [
       "<matplotlib.axes._subplots.AxesSubplot at 0x7fd906606650>"
      ]
     },
     "execution_count": 51,
     "metadata": {
      "tags": []
     },
     "output_type": "execute_result"
    },
    {
     "data": {
      "image/png": "[encoded data removed]",
      "text/plain": [
       "<Figure size 432x288 with 2 Axes>"
      ]
     },
     "metadata": {
      "needs_background": "light",
      "tags": []
     },
     "output_type": "display_data"
    }
   ],
   "source": [
    "\"\"\"\n",
    "MODEL 1 WITH 45 EPOCHS\n",
    "\"\"\"\n",
    "model = Sequential()\n",
    "model.add(Conv2D(64, kernel_size=(3, 3), activation='relu', input_shape=(200,200,1)))\n",
    "model.add(MaxPool2D(pool_size=(2, 2)))\n",
    "\n",
    "model.add(Conv2D(64, kernel_size=(3, 3), activation='relu'))\n",
    "model.add(MaxPool2D(pool_size=(2, 2)))\n",
    "\n",
    "model.add(Conv2D(128, kernel_size=(3, 3), activation='relu'))\n",
    "model.add(Dropout(0.1))\n",
    "model.add(MaxPool2D(pool_size=(2, 2)))\n",
    "\n",
    "model.add(Conv2D(128, kernel_size=(3, 3), activation='relu'))\n",
    "model.add(Dropout(0.1))\n",
    "model.add(MaxPool2D(pool_size=(2, 2)))\n",
    "\n",
    "model.add(Flatten())\n",
    "model.add(Dropout(0.2))\n",
    "model.add(Dense(256, kernel_regularizer=regularizers.l1(1e-4), activation='relu'))\n",
    "\n",
    "model.add(Dropout(0.1))\n",
    "model.add(Dense(128, kernel_regularizer=regularizers.l1(1e-4), activation='relu'))\n",
    "\n",
    "model.add(Dense(1, activation='sigmoid'))\n",
    "\n",
    "opt = Adam(learning_rate=0.0001)\n",
    "\n",
    "model.compile(optimizer=opt, loss='binary_crossentropy', metrics=['accuracy'])\n",
    "\n",
    "\n",
    "history = model.fit(\n",
    "    train_iterator,\n",
    "    validation_data=val_iterator, \n",
    "    epochs=45, \n",
    "    verbose=1, \n",
    "    class_weight=class_weight,\n",
    "    steps_per_epoch=X_train.shape[0] // batch_size,\n",
    "    validation_steps=X_val.shape[0] // batch_size,  \n",
    "  )\n",
    "\n",
    "plot_loss_history(history,\"loss\")\n",
    "\n",
    "results = model.evaluate(X_test, y_test, batch_size=64)\n",
    "print(\"test loss, test acc:\", results)\n",
    "\n",
    "predictions = model.predict(X_test)\n",
    "predictions = np.where(predictions > 0.5, 1, 0)\n",
    "print(classification_report(predictions, y_test))\n",
    "cm = confusion_matrix(predictions, y_test)\n",
    "sns.heatmap(cm, annot=True)"
   ]
  },
  {
   "cell_type": "code",
   "execution_count": null,
   "metadata": {
    "id": "Gr_cLMAoNSMr"
   },
   "outputs": [],
   "source": []
  }
 ],
 "metadata": {
  "accelerator": "GPU",
  "colab": {
   "collapsed_sections": [],
   "name": "4155-proj.ipynb",
   "provenance": []
  },
  "kernelspec": {
   "display_name": "Python 3",
   "language": "python",
   "name": "python3"
  },
  "language_info": {
   "codemirror_mode": {
    "name": "ipython",
    "version": 3
   },
   "file_extension": ".py",
   "mimetype": "text/x-python",
   "name": "python",
   "nbconvert_exporter": "python",
   "pygments_lexer": "ipython3",
   "version": "3.9.4"
  },
  "widgets": {
   "application/vnd.jupyter.widget-state+json": {
    "036063e9985f4d0588f56a02963e0be8": {
     "model_module": "@jupyter-widgets/controls",
     "model_name": "HBoxModel",
     "state": {
      "_dom_classes": [],
      "_model_module": "@jupyter-widgets/controls",
      "_model_module_version": "1.5.0",
      "_model_name": "HBoxModel",
      "_view_count": null,
      "_view_module": "@jupyter-widgets/controls",
      "_view_module_version": "1.5.0",
      "_view_name": "HBoxView",
      "box_style": "",
      "children": [
       "IPY_MODEL_268c1eed6a4a4abcb670a1cf28f6653c",
       "IPY_MODEL_0668782741a94bd7a112c518a68a8e26"
      ],
      "layout": "IPY_MODEL_9f8981420a3d4143a753bcec21d230c6"
     }
    },
    "0668782741a94bd7a112c518a68a8e26": {
     "model_module": "@jupyter-widgets/controls",
     "model_name": "HTMLModel",
     "state": {
      "_dom_classes": [],
      "_model_module": "@jupyter-widgets/controls",
      "_model_module_version": "1.5.0",
      "_model_name": "HTMLModel",
      "_view_count": null,
      "_view_module": "@jupyter-widgets/controls",
      "_view_module_version": "1.5.0",
      "_view_name": "HTMLView",
      "description": "",
      "description_tooltip": null,
      "layout": "IPY_MODEL_86f56b130e944430829ba972b1af20d4",
      "placeholder": "​",
      "style": "IPY_MODEL_7eaba56be3db40b5aebaed878e7c1a0d",
      "value": " 1342/1342 [00:42&lt;00:00, 31.90it/s]"
     }
    },
    "0ba51013dfec449791dbf9ac3817d07f": {
     "model_module": "@jupyter-widgets/controls",
     "model_name": "HBoxModel",
     "state": {
      "_dom_classes": [],
      "_model_module": "@jupyter-widgets/controls",
      "_model_module_version": "1.5.0",
      "_model_name": "HBoxModel",
      "_view_count": null,
      "_view_module": "@jupyter-widgets/controls",
      "_view_module_version": "1.5.0",
      "_view_name": "HBoxView",
      "box_style": "",
      "children": [
       "IPY_MODEL_681cfe9fb2344c71ad8ec9aa9c396852",
       "IPY_MODEL_ddce69d919424196b68e5b90a1bb6737"
      ],
      "layout": "IPY_MODEL_17bb1a60b4a34541b73002a2889f39d6"
     }
    },
    "17bb1a60b4a34541b73002a2889f39d6": {
     "model_module": "@jupyter-widgets/base",
     "model_name": "LayoutModel",
     "state": {
      "_model_module": "@jupyter-widgets/base",
      "_model_module_version": "1.2.0",
      "_model_name": "LayoutModel",
      "_view_count": null,
      "_view_module": "@jupyter-widgets/base",
      "_view_module_version": "1.2.0",
      "_view_name": "LayoutView",
      "align_content": null,
      "align_items": null,
      "align_self": null,
      "border": null,
      "bottom": null,
      "display": null,
      "flex": null,
      "flex_flow": null,
      "grid_area": null,
      "grid_auto_columns": null,
      "grid_auto_flow": null,
      "grid_auto_rows": null,
      "grid_column": null,
      "grid_gap": null,
      "grid_row": null,
      "grid_template_areas": null,
      "grid_template_columns": null,
      "grid_template_rows": null,
      "height": null,
      "justify_content": null,
      "justify_items": null,
      "left": null,
      "margin": null,
      "max_height": null,
      "max_width": null,
      "min_height": null,
      "min_width": null,
      "object_fit": null,
      "object_position": null,
      "order": null,
      "overflow": null,
      "overflow_x": null,
      "overflow_y": null,
      "padding": null,
      "right": null,
      "top": null,
      "visibility": null,
      "width": null
     }
    },
    "18570fdc13ce40aab579d957613cfa8f": {
     "model_module": "@jupyter-widgets/base",
     "model_name": "LayoutModel",
     "state": {
      "_model_module": "@jupyter-widgets/base",
      "_model_module_version": "1.2.0",
      "_model_name": "LayoutModel",
      "_view_count": null,
      "_view_module": "@jupyter-widgets/base",
      "_view_module_version": "1.2.0",
      "_view_name": "LayoutView",
      "align_content": null,
      "align_items": null,
      "align_self": null,
      "border": null,
      "bottom": null,
      "display": null,
      "flex": null,
      "flex_flow": null,
      "grid_area": null,
      "grid_auto_columns": null,
      "grid_auto_flow": null,
      "grid_auto_rows": null,
      "grid_column": null,
      "grid_gap": null,
      "grid_row": null,
      "grid_template_areas": null,
      "grid_template_columns": null,
      "grid_template_rows": null,
      "height": null,
      "justify_content": null,
      "justify_items": null,
      "left": null,
      "margin": null,
      "max_height": null,
      "max_width": null,
      "min_height": null,
      "min_width": null,
      "object_fit": null,
      "object_position": null,
      "order": null,
      "overflow": null,
      "overflow_x": null,
      "overflow_y": null,
      "padding": null,
      "right": null,
      "top": null,
      "visibility": null,
      "width": null
     }
    },
    "220188b2acf34528b2db8ab13fa843ec": {
     "model_module": "@jupyter-widgets/controls",
     "model_name": "ProgressStyleModel",
     "state": {
      "_model_module": "@jupyter-widgets/controls",
      "_model_module_version": "1.5.0",
      "_model_name": "ProgressStyleModel",
      "_view_count": null,
      "_view_module": "@jupyter-widgets/base",
      "_view_module_version": "1.2.0",
      "_view_name": "StyleView",
      "bar_color": null,
      "description_width": "initial"
     }
    },
    "222e59c13fa546a99cf585c0b0493ef2": {
     "model_module": "@jupyter-widgets/controls",
     "model_name": "HBoxModel",
     "state": {
      "_dom_classes": [],
      "_model_module": "@jupyter-widgets/controls",
      "_model_module_version": "1.5.0",
      "_model_name": "HBoxModel",
      "_view_count": null,
      "_view_module": "@jupyter-widgets/controls",
      "_view_module_version": "1.5.0",
      "_view_name": "HBoxView",
      "box_style": "",
      "children": [
       "IPY_MODEL_25200e5e9f0948379b2761a2ff2d2f9a",
       "IPY_MODEL_e7f4802655724afd9a092409aa877864"
      ],
      "layout": "IPY_MODEL_62e618bce0524ffe8e9ffd43313147e2"
     }
    },
    "25200e5e9f0948379b2761a2ff2d2f9a": {
     "model_module": "@jupyter-widgets/controls",
     "model_name": "FloatProgressModel",
     "state": {
      "_dom_classes": [],
      "_model_module": "@jupyter-widgets/controls",
      "_model_module_version": "1.5.0",
      "_model_name": "FloatProgressModel",
      "_view_count": null,
      "_view_module": "@jupyter-widgets/controls",
      "_view_module_version": "1.5.0",
      "_view_name": "ProgressView",
      "bar_style": "success",
      "description": "100%",
      "description_tooltip": null,
      "layout": "IPY_MODEL_3eb740b8e89740a08cf4be967ef889b2",
      "max": 390,
      "min": 0,
      "orientation": "horizontal",
      "style": "IPY_MODEL_220188b2acf34528b2db8ab13fa843ec",
      "value": 390
     }
    },
    "268c1eed6a4a4abcb670a1cf28f6653c": {
     "model_module": "@jupyter-widgets/controls",
     "model_name": "FloatProgressModel",
     "state": {
      "_dom_classes": [],
      "_model_module": "@jupyter-widgets/controls",
      "_model_module_version": "1.5.0",
      "_model_name": "FloatProgressModel",
      "_view_count": null,
      "_view_module": "@jupyter-widgets/controls",
      "_view_module_version": "1.5.0",
      "_view_name": "ProgressView",
      "bar_style": "success",
      "description": "100%",
      "description_tooltip": null,
      "layout": "IPY_MODEL_f0916fac03c1452c90a8e7a4ff3290f4",
      "max": 1342,
      "min": 0,
      "orientation": "horizontal",
      "style": "IPY_MODEL_f954a5ece4cf4db0a9e860ce4afe5153",
      "value": 1342
     }
    },
    "3341ca4bfd334a63bc9aa7d06786d9d6": {
     "model_module": "@jupyter-widgets/controls",
     "model_name": "FloatProgressModel",
     "state": {
      "_dom_classes": [],
      "_model_module": "@jupyter-widgets/controls",
      "_model_module_version": "1.5.0",
      "_model_name": "FloatProgressModel",
      "_view_count": null,
      "_view_module": "@jupyter-widgets/controls",
      "_view_module_version": "1.5.0",
      "_view_name": "ProgressView",
      "bar_style": "success",
      "description": "100%",
      "description_tooltip": null,
      "layout": "IPY_MODEL_c5709dd81bf74b6c9f6813b83b653d46",
      "max": 9,
      "min": 0,
      "orientation": "horizontal",
      "style": "IPY_MODEL_95f2e942d89a4118a96e79f16ee60b9e",
      "value": 9
     }
    },
    "3eb740b8e89740a08cf4be967ef889b2": {
     "model_module": "@jupyter-widgets/base",
     "model_name": "LayoutModel",
     "state": {
      "_model_module": "@jupyter-widgets/base",
      "_model_module_version": "1.2.0",
      "_model_name": "LayoutModel",
      "_view_count": null,
      "_view_module": "@jupyter-widgets/base",
      "_view_module_version": "1.2.0",
      "_view_name": "LayoutView",
      "align_content": null,
      "align_items": null,
      "align_self": null,
      "border": null,
      "bottom": null,
      "display": null,
      "flex": null,
      "flex_flow": null,
      "grid_area": null,
      "grid_auto_columns": null,
      "grid_auto_flow": null,
      "grid_auto_rows": null,
      "grid_column": null,
      "grid_gap": null,
      "grid_row": null,
      "grid_template_areas": null,
      "grid_template_columns": null,
      "grid_template_rows": null,
      "height": null,
      "justify_content": null,
      "justify_items": null,
      "left": null,
      "margin": null,
      "max_height": null,
      "max_width": null,
      "min_height": null,
      "min_width": null,
      "object_fit": null,
      "object_position": null,
      "order": null,
      "overflow": null,
      "overflow_x": null,
      "overflow_y": null,
      "padding": null,
      "right": null,
      "top": null,
      "visibility": null,
      "width": null
     }
    },
    "54966fd4136a4faeaccae4dd301c2cd4": {
     "model_module": "@jupyter-widgets/base",
     "model_name": "LayoutModel",
     "state": {
      "_model_module": "@jupyter-widgets/base",
      "_model_module_version": "1.2.0",
      "_model_name": "LayoutModel",
      "_view_count": null,
      "_view_module": "@jupyter-widgets/base",
      "_view_module_version": "1.2.0",
      "_view_name": "LayoutView",
      "align_content": null,
      "align_items": null,
      "align_self": null,
      "border": null,
      "bottom": null,
      "display": null,
      "flex": null,
      "flex_flow": null,
      "grid_area": null,
      "grid_auto_columns": null,
      "grid_auto_flow": null,
      "grid_auto_rows": null,
      "grid_column": null,
      "grid_gap": null,
      "grid_row": null,
      "grid_template_areas": null,
      "grid_template_columns": null,
      "grid_template_rows": null,
      "height": null,
      "justify_content": null,
      "justify_items": null,
      "left": null,
      "margin": null,
      "max_height": null,
      "max_width": null,
      "min_height": null,
      "min_width": null,
      "object_fit": null,
      "object_position": null,
      "order": null,
      "overflow": null,
      "overflow_x": null,
      "overflow_y": null,
      "padding": null,
      "right": null,
      "top": null,
      "visibility": null,
      "width": null
     }
    },
    "59d1aa88a24b4fc2bdc03a49c4b688df": {
     "model_module": "@jupyter-widgets/base",
     "model_name": "LayoutModel",
     "state": {
      "_model_module": "@jupyter-widgets/base",
      "_model_module_version": "1.2.0",
      "_model_name": "LayoutModel",
      "_view_count": null,
      "_view_module": "@jupyter-widgets/base",
      "_view_module_version": "1.2.0",
      "_view_name": "LayoutView",
      "align_content": null,
      "align_items": null,
      "align_self": null,
      "border": null,
      "bottom": null,
      "display": null,
      "flex": null,
      "flex_flow": null,
      "grid_area": null,
      "grid_auto_columns": null,
      "grid_auto_flow": null,
      "grid_auto_rows": null,
      "grid_column": null,
      "grid_gap": null,
      "grid_row": null,
      "grid_template_areas": null,
      "grid_template_columns": null,
      "grid_template_rows": null,
      "height": null,
      "justify_content": null,
      "justify_items": null,
      "left": null,
      "margin": null,
      "max_height": null,
      "max_width": null,
      "min_height": null,
      "min_width": null,
      "object_fit": null,
      "object_position": null,
      "order": null,
      "overflow": null,
      "overflow_x": null,
      "overflow_y": null,
      "padding": null,
      "right": null,
      "top": null,
      "visibility": null,
      "width": null
     }
    },
    "5e724fba0add4f29b5f21bafb3c51306": {
     "model_module": "@jupyter-widgets/controls",
     "model_name": "HTMLModel",
     "state": {
      "_dom_classes": [],
      "_model_module": "@jupyter-widgets/controls",
      "_model_module_version": "1.5.0",
      "_model_name": "HTMLModel",
      "_view_count": null,
      "_view_module": "@jupyter-widgets/controls",
      "_view_module_version": "1.5.0",
      "_view_name": "HTMLView",
      "description": "",
      "description_tooltip": null,
      "layout": "IPY_MODEL_bdedc2f806e24cc69647c2ccaa81c9c3",
      "placeholder": "​",
      "style": "IPY_MODEL_a054d7d065184f08bc4299203612e01a",
      "value": " 3876/3876 [01:31&lt;00:00, 42.23it/s]"
     }
    },
    "62e618bce0524ffe8e9ffd43313147e2": {
     "model_module": "@jupyter-widgets/base",
     "model_name": "LayoutModel",
     "state": {
      "_model_module": "@jupyter-widgets/base",
      "_model_module_version": "1.2.0",
      "_model_name": "LayoutModel",
      "_view_count": null,
      "_view_module": "@jupyter-widgets/base",
      "_view_module_version": "1.2.0",
      "_view_name": "LayoutView",
      "align_content": null,
      "align_items": null,
      "align_self": null,
      "border": null,
      "bottom": null,
      "display": null,
      "flex": null,
      "flex_flow": null,
      "grid_area": null,
      "grid_auto_columns": null,
      "grid_auto_flow": null,
      "grid_auto_rows": null,
      "grid_column": null,
      "grid_gap": null,
      "grid_row": null,
      "grid_template_areas": null,
      "grid_template_columns": null,
      "grid_template_rows": null,
      "height": null,
      "justify_content": null,
      "justify_items": null,
      "left": null,
      "margin": null,
      "max_height": null,
      "max_width": null,
      "min_height": null,
      "min_width": null,
      "object_fit": null,
      "object_position": null,
      "order": null,
      "overflow": null,
      "overflow_x": null,
      "overflow_y": null,
      "padding": null,
      "right": null,
      "top": null,
      "visibility": null,
      "width": null
     }
    },
    "63d85e3447244710a9070e8dcc45e745": {
     "model_module": "@jupyter-widgets/controls",
     "model_name": "ProgressStyleModel",
     "state": {
      "_model_module": "@jupyter-widgets/controls",
      "_model_module_version": "1.5.0",
      "_model_name": "ProgressStyleModel",
      "_view_count": null,
      "_view_module": "@jupyter-widgets/base",
      "_view_module_version": "1.2.0",
      "_view_name": "StyleView",
      "bar_color": null,
      "description_width": "initial"
     }
    },
    "63fdc1f4635e434f9e4e03211295f231": {
     "model_module": "@jupyter-widgets/base",
     "model_name": "LayoutModel",
     "state": {
      "_model_module": "@jupyter-widgets/base",
      "_model_module_version": "1.2.0",
      "_model_name": "LayoutModel",
      "_view_count": null,
      "_view_module": "@jupyter-widgets/base",
      "_view_module_version": "1.2.0",
      "_view_name": "LayoutView",
      "align_content": null,
      "align_items": null,
      "align_self": null,
      "border": null,
      "bottom": null,
      "display": null,
      "flex": null,
      "flex_flow": null,
      "grid_area": null,
      "grid_auto_columns": null,
      "grid_auto_flow": null,
      "grid_auto_rows": null,
      "grid_column": null,
      "grid_gap": null,
      "grid_row": null,
      "grid_template_areas": null,
      "grid_template_columns": null,
      "grid_template_rows": null,
      "height": null,
      "justify_content": null,
      "justify_items": null,
      "left": null,
      "margin": null,
      "max_height": null,
      "max_width": null,
      "min_height": null,
      "min_width": null,
      "object_fit": null,
      "object_position": null,
      "order": null,
      "overflow": null,
      "overflow_x": null,
      "overflow_y": null,
      "padding": null,
      "right": null,
      "top": null,
      "visibility": null,
      "width": null
     }
    },
    "681cfe9fb2344c71ad8ec9aa9c396852": {
     "model_module": "@jupyter-widgets/controls",
     "model_name": "FloatProgressModel",
     "state": {
      "_dom_classes": [],
      "_model_module": "@jupyter-widgets/controls",
      "_model_module_version": "1.5.0",
      "_model_name": "FloatProgressModel",
      "_view_count": null,
      "_view_module": "@jupyter-widgets/controls",
      "_view_module_version": "1.5.0",
      "_view_name": "ProgressView",
      "bar_style": "success",
      "description": "100%",
      "description_tooltip": null,
      "layout": "IPY_MODEL_63fdc1f4635e434f9e4e03211295f231",
      "max": 9,
      "min": 0,
      "orientation": "horizontal",
      "style": "IPY_MODEL_e1f2ac9344194ffa8ff3038da6240242",
      "value": 9
     }
    },
    "6cfd916aacb24190a929f3f380ca25bd": {
     "model_module": "@jupyter-widgets/base",
     "model_name": "LayoutModel",
     "state": {
      "_model_module": "@jupyter-widgets/base",
      "_model_module_version": "1.2.0",
      "_model_name": "LayoutModel",
      "_view_count": null,
      "_view_module": "@jupyter-widgets/base",
      "_view_module_version": "1.2.0",
      "_view_name": "LayoutView",
      "align_content": null,
      "align_items": null,
      "align_self": null,
      "border": null,
      "bottom": null,
      "display": null,
      "flex": null,
      "flex_flow": null,
      "grid_area": null,
      "grid_auto_columns": null,
      "grid_auto_flow": null,
      "grid_auto_rows": null,
      "grid_column": null,
      "grid_gap": null,
      "grid_row": null,
      "grid_template_areas": null,
      "grid_template_columns": null,
      "grid_template_rows": null,
      "height": null,
      "justify_content": null,
      "justify_items": null,
      "left": null,
      "margin": null,
      "max_height": null,
      "max_width": null,
      "min_height": null,
      "min_width": null,
      "object_fit": null,
      "object_position": null,
      "order": null,
      "overflow": null,
      "overflow_x": null,
      "overflow_y": null,
      "padding": null,
      "right": null,
      "top": null,
      "visibility": null,
      "width": null
     }
    },
    "6e51e9b2cfa6465ba872977953fe0815": {
     "model_module": "@jupyter-widgets/controls",
     "model_name": "HTMLModel",
     "state": {
      "_dom_classes": [],
      "_model_module": "@jupyter-widgets/controls",
      "_model_module_version": "1.5.0",
      "_model_name": "HTMLModel",
      "_view_count": null,
      "_view_module": "@jupyter-widgets/controls",
      "_view_module_version": "1.5.0",
      "_view_name": "HTMLView",
      "description": "",
      "description_tooltip": null,
      "layout": "IPY_MODEL_54966fd4136a4faeaccae4dd301c2cd4",
      "placeholder": "​",
      "style": "IPY_MODEL_7be6f6a0f10c4248aa0caa2fd186675b",
      "value": " 9/9 [00:02&lt;00:00,  4.38it/s]"
     }
    },
    "7be6f6a0f10c4248aa0caa2fd186675b": {
     "model_module": "@jupyter-widgets/controls",
     "model_name": "DescriptionStyleModel",
     "state": {
      "_model_module": "@jupyter-widgets/controls",
      "_model_module_version": "1.5.0",
      "_model_name": "DescriptionStyleModel",
      "_view_count": null,
      "_view_module": "@jupyter-widgets/base",
      "_view_module_version": "1.2.0",
      "_view_name": "StyleView",
      "description_width": ""
     }
    },
    "7c7013f59fea429eac4654a7bcceaacf": {
     "model_module": "@jupyter-widgets/controls",
     "model_name": "HTMLModel",
     "state": {
      "_dom_classes": [],
      "_model_module": "@jupyter-widgets/controls",
      "_model_module_version": "1.5.0",
      "_model_name": "HTMLModel",
      "_view_count": null,
      "_view_module": "@jupyter-widgets/controls",
      "_view_module_version": "1.5.0",
      "_view_name": "HTMLView",
      "description": "",
      "description_tooltip": null,
      "layout": "IPY_MODEL_ed1f48676b78498a9d981b36ae1a68ad",
      "placeholder": "​",
      "style": "IPY_MODEL_fbeba699c2b7478d997bf0b931ade823",
      "value": " 234/234 [00:04&lt;00:00, 48.11it/s]"
     }
    },
    "7eaba56be3db40b5aebaed878e7c1a0d": {
     "model_module": "@jupyter-widgets/controls",
     "model_name": "DescriptionStyleModel",
     "state": {
      "_model_module": "@jupyter-widgets/controls",
      "_model_module_version": "1.5.0",
      "_model_name": "DescriptionStyleModel",
      "_view_count": null,
      "_view_module": "@jupyter-widgets/base",
      "_view_module_version": "1.2.0",
      "_view_name": "StyleView",
      "description_width": ""
     }
    },
    "86f56b130e944430829ba972b1af20d4": {
     "model_module": "@jupyter-widgets/base",
     "model_name": "LayoutModel",
     "state": {
      "_model_module": "@jupyter-widgets/base",
      "_model_module_version": "1.2.0",
      "_model_name": "LayoutModel",
      "_view_count": null,
      "_view_module": "@jupyter-widgets/base",
      "_view_module_version": "1.2.0",
      "_view_name": "LayoutView",
      "align_content": null,
      "align_items": null,
      "align_self": null,
      "border": null,
      "bottom": null,
      "display": null,
      "flex": null,
      "flex_flow": null,
      "grid_area": null,
      "grid_auto_columns": null,
      "grid_auto_flow": null,
      "grid_auto_rows": null,
      "grid_column": null,
      "grid_gap": null,
      "grid_row": null,
      "grid_template_areas": null,
      "grid_template_columns": null,
      "grid_template_rows": null,
      "height": null,
      "justify_content": null,
      "justify_items": null,
      "left": null,
      "margin": null,
      "max_height": null,
      "max_width": null,
      "min_height": null,
      "min_width": null,
      "object_fit": null,
      "object_position": null,
      "order": null,
      "overflow": null,
      "overflow_x": null,
      "overflow_y": null,
      "padding": null,
      "right": null,
      "top": null,
      "visibility": null,
      "width": null
     }
    },
    "8d5b7b8fdd16429eb3fef9226870ec93": {
     "model_module": "@jupyter-widgets/controls",
     "model_name": "DescriptionStyleModel",
     "state": {
      "_model_module": "@jupyter-widgets/controls",
      "_model_module_version": "1.5.0",
      "_model_name": "DescriptionStyleModel",
      "_view_count": null,
      "_view_module": "@jupyter-widgets/base",
      "_view_module_version": "1.2.0",
      "_view_name": "StyleView",
      "description_width": ""
     }
    },
    "945b2fd6b9c74aaf8c9fab4206401c4b": {
     "model_module": "@jupyter-widgets/controls",
     "model_name": "HBoxModel",
     "state": {
      "_dom_classes": [],
      "_model_module": "@jupyter-widgets/controls",
      "_model_module_version": "1.5.0",
      "_model_name": "HBoxModel",
      "_view_count": null,
      "_view_module": "@jupyter-widgets/controls",
      "_view_module_version": "1.5.0",
      "_view_name": "HBoxView",
      "box_style": "",
      "children": [
       "IPY_MODEL_3341ca4bfd334a63bc9aa7d06786d9d6",
       "IPY_MODEL_6e51e9b2cfa6465ba872977953fe0815"
      ],
      "layout": "IPY_MODEL_6cfd916aacb24190a929f3f380ca25bd"
     }
    },
    "95f2e942d89a4118a96e79f16ee60b9e": {
     "model_module": "@jupyter-widgets/controls",
     "model_name": "ProgressStyleModel",
     "state": {
      "_model_module": "@jupyter-widgets/controls",
      "_model_module_version": "1.5.0",
      "_model_name": "ProgressStyleModel",
      "_view_count": null,
      "_view_module": "@jupyter-widgets/base",
      "_view_module_version": "1.2.0",
      "_view_name": "StyleView",
      "bar_color": null,
      "description_width": "initial"
     }
    },
    "95f645c4dd844d0d8e22051311d2e81c": {
     "model_module": "@jupyter-widgets/controls",
     "model_name": "HBoxModel",
     "state": {
      "_dom_classes": [],
      "_model_module": "@jupyter-widgets/controls",
      "_model_module_version": "1.5.0",
      "_model_name": "HBoxModel",
      "_view_count": null,
      "_view_module": "@jupyter-widgets/controls",
      "_view_module_version": "1.5.0",
      "_view_name": "HBoxView",
      "box_style": "",
      "children": [
       "IPY_MODEL_e5b39e70381042fd88107e624485a217",
       "IPY_MODEL_7c7013f59fea429eac4654a7bcceaacf"
      ],
      "layout": "IPY_MODEL_ed16fe5ec86446b3b28d1090c2a8e38f"
     }
    },
    "9f8981420a3d4143a753bcec21d230c6": {
     "model_module": "@jupyter-widgets/base",
     "model_name": "LayoutModel",
     "state": {
      "_model_module": "@jupyter-widgets/base",
      "_model_module_version": "1.2.0",
      "_model_name": "LayoutModel",
      "_view_count": null,
      "_view_module": "@jupyter-widgets/base",
      "_view_module_version": "1.2.0",
      "_view_name": "LayoutView",
      "align_content": null,
      "align_items": null,
      "align_self": null,
      "border": null,
      "bottom": null,
      "display": null,
      "flex": null,
      "flex_flow": null,
      "grid_area": null,
      "grid_auto_columns": null,
      "grid_auto_flow": null,
      "grid_auto_rows": null,
      "grid_column": null,
      "grid_gap": null,
      "grid_row": null,
      "grid_template_areas": null,
      "grid_template_columns": null,
      "grid_template_rows": null,
      "height": null,
      "justify_content": null,
      "justify_items": null,
      "left": null,
      "margin": null,
      "max_height": null,
      "max_width": null,
      "min_height": null,
      "min_width": null,
      "object_fit": null,
      "object_position": null,
      "order": null,
      "overflow": null,
      "overflow_x": null,
      "overflow_y": null,
      "padding": null,
      "right": null,
      "top": null,
      "visibility": null,
      "width": null
     }
    },
    "a054d7d065184f08bc4299203612e01a": {
     "model_module": "@jupyter-widgets/controls",
     "model_name": "DescriptionStyleModel",
     "state": {
      "_model_module": "@jupyter-widgets/controls",
      "_model_module_version": "1.5.0",
      "_model_name": "DescriptionStyleModel",
      "_view_count": null,
      "_view_module": "@jupyter-widgets/base",
      "_view_module_version": "1.2.0",
      "_view_name": "StyleView",
      "description_width": ""
     }
    },
    "a080117996024495a960cc425204eec9": {
     "model_module": "@jupyter-widgets/base",
     "model_name": "LayoutModel",
     "state": {
      "_model_module": "@jupyter-widgets/base",
      "_model_module_version": "1.2.0",
      "_model_name": "LayoutModel",
      "_view_count": null,
      "_view_module": "@jupyter-widgets/base",
      "_view_module_version": "1.2.0",
      "_view_name": "LayoutView",
      "align_content": null,
      "align_items": null,
      "align_self": null,
      "border": null,
      "bottom": null,
      "display": null,
      "flex": null,
      "flex_flow": null,
      "grid_area": null,
      "grid_auto_columns": null,
      "grid_auto_flow": null,
      "grid_auto_rows": null,
      "grid_column": null,
      "grid_gap": null,
      "grid_row": null,
      "grid_template_areas": null,
      "grid_template_columns": null,
      "grid_template_rows": null,
      "height": null,
      "justify_content": null,
      "justify_items": null,
      "left": null,
      "margin": null,
      "max_height": null,
      "max_width": null,
      "min_height": null,
      "min_width": null,
      "object_fit": null,
      "object_position": null,
      "order": null,
      "overflow": null,
      "overflow_x": null,
      "overflow_y": null,
      "padding": null,
      "right": null,
      "top": null,
      "visibility": null,
      "width": null
     }
    },
    "a2162019bc5d4805a42770afcba26470": {
     "model_module": "@jupyter-widgets/controls",
     "model_name": "FloatProgressModel",
     "state": {
      "_dom_classes": [],
      "_model_module": "@jupyter-widgets/controls",
      "_model_module_version": "1.5.0",
      "_model_name": "FloatProgressModel",
      "_view_count": null,
      "_view_module": "@jupyter-widgets/controls",
      "_view_module_version": "1.5.0",
      "_view_name": "ProgressView",
      "bar_style": "success",
      "description": "100%",
      "description_tooltip": null,
      "layout": "IPY_MODEL_ffade0252cee410aa91598f87cc0c9c7",
      "max": 3876,
      "min": 0,
      "orientation": "horizontal",
      "style": "IPY_MODEL_63d85e3447244710a9070e8dcc45e745",
      "value": 3876
     }
    },
    "a811f1025ef24082973bffe62d40765f": {
     "model_module": "@jupyter-widgets/controls",
     "model_name": "ProgressStyleModel",
     "state": {
      "_model_module": "@jupyter-widgets/controls",
      "_model_module_version": "1.5.0",
      "_model_name": "ProgressStyleModel",
      "_view_count": null,
      "_view_module": "@jupyter-widgets/base",
      "_view_module_version": "1.2.0",
      "_view_name": "StyleView",
      "bar_color": null,
      "description_width": "initial"
     }
    },
    "abc05b9385f34c788355d7aa6b1e904c": {
     "model_module": "@jupyter-widgets/controls",
     "model_name": "HBoxModel",
     "state": {
      "_dom_classes": [],
      "_model_module": "@jupyter-widgets/controls",
      "_model_module_version": "1.5.0",
      "_model_name": "HBoxModel",
      "_view_count": null,
      "_view_module": "@jupyter-widgets/controls",
      "_view_module_version": "1.5.0",
      "_view_name": "HBoxView",
      "box_style": "",
      "children": [
       "IPY_MODEL_a2162019bc5d4805a42770afcba26470",
       "IPY_MODEL_5e724fba0add4f29b5f21bafb3c51306"
      ],
      "layout": "IPY_MODEL_f0b337ad1447408280f2d077cc84dfa5"
     }
    },
    "bdedc2f806e24cc69647c2ccaa81c9c3": {
     "model_module": "@jupyter-widgets/base",
     "model_name": "LayoutModel",
     "state": {
      "_model_module": "@jupyter-widgets/base",
      "_model_module_version": "1.2.0",
      "_model_name": "LayoutModel",
      "_view_count": null,
      "_view_module": "@jupyter-widgets/base",
      "_view_module_version": "1.2.0",
      "_view_name": "LayoutView",
      "align_content": null,
      "align_items": null,
      "align_self": null,
      "border": null,
      "bottom": null,
      "display": null,
      "flex": null,
      "flex_flow": null,
      "grid_area": null,
      "grid_auto_columns": null,
      "grid_auto_flow": null,
      "grid_auto_rows": null,
      "grid_column": null,
      "grid_gap": null,
      "grid_row": null,
      "grid_template_areas": null,
      "grid_template_columns": null,
      "grid_template_rows": null,
      "height": null,
      "justify_content": null,
      "justify_items": null,
      "left": null,
      "margin": null,
      "max_height": null,
      "max_width": null,
      "min_height": null,
      "min_width": null,
      "object_fit": null,
      "object_position": null,
      "order": null,
      "overflow": null,
      "overflow_x": null,
      "overflow_y": null,
      "padding": null,
      "right": null,
      "top": null,
      "visibility": null,
      "width": null
     }
    },
    "c5709dd81bf74b6c9f6813b83b653d46": {
     "model_module": "@jupyter-widgets/base",
     "model_name": "LayoutModel",
     "state": {
      "_model_module": "@jupyter-widgets/base",
      "_model_module_version": "1.2.0",
      "_model_name": "LayoutModel",
      "_view_count": null,
      "_view_module": "@jupyter-widgets/base",
      "_view_module_version": "1.2.0",
      "_view_name": "LayoutView",
      "align_content": null,
      "align_items": null,
      "align_self": null,
      "border": null,
      "bottom": null,
      "display": null,
      "flex": null,
      "flex_flow": null,
      "grid_area": null,
      "grid_auto_columns": null,
      "grid_auto_flow": null,
      "grid_auto_rows": null,
      "grid_column": null,
      "grid_gap": null,
      "grid_row": null,
      "grid_template_areas": null,
      "grid_template_columns": null,
      "grid_template_rows": null,
      "height": null,
      "justify_content": null,
      "justify_items": null,
      "left": null,
      "margin": null,
      "max_height": null,
      "max_width": null,
      "min_height": null,
      "min_width": null,
      "object_fit": null,
      "object_position": null,
      "order": null,
      "overflow": null,
      "overflow_x": null,
      "overflow_y": null,
      "padding": null,
      "right": null,
      "top": null,
      "visibility": null,
      "width": null
     }
    },
    "d56b6f6539114dd2843319f3ec144215": {
     "model_module": "@jupyter-widgets/controls",
     "model_name": "DescriptionStyleModel",
     "state": {
      "_model_module": "@jupyter-widgets/controls",
      "_model_module_version": "1.5.0",
      "_model_name": "DescriptionStyleModel",
      "_view_count": null,
      "_view_module": "@jupyter-widgets/base",
      "_view_module_version": "1.2.0",
      "_view_name": "StyleView",
      "description_width": ""
     }
    },
    "ddce69d919424196b68e5b90a1bb6737": {
     "model_module": "@jupyter-widgets/controls",
     "model_name": "HTMLModel",
     "state": {
      "_dom_classes": [],
      "_model_module": "@jupyter-widgets/controls",
      "_model_module_version": "1.5.0",
      "_model_name": "HTMLModel",
      "_view_count": null,
      "_view_module": "@jupyter-widgets/controls",
      "_view_module_version": "1.5.0",
      "_view_name": "HTMLView",
      "description": "",
      "description_tooltip": null,
      "layout": "IPY_MODEL_18570fdc13ce40aab579d957613cfa8f",
      "placeholder": "​",
      "style": "IPY_MODEL_8d5b7b8fdd16429eb3fef9226870ec93",
      "value": " 9/9 [00:16&lt;00:00,  1.80s/it]"
     }
    },
    "e1f2ac9344194ffa8ff3038da6240242": {
     "model_module": "@jupyter-widgets/controls",
     "model_name": "ProgressStyleModel",
     "state": {
      "_model_module": "@jupyter-widgets/controls",
      "_model_module_version": "1.5.0",
      "_model_name": "ProgressStyleModel",
      "_view_count": null,
      "_view_module": "@jupyter-widgets/base",
      "_view_module_version": "1.2.0",
      "_view_name": "StyleView",
      "bar_color": null,
      "description_width": "initial"
     }
    },
    "e5b39e70381042fd88107e624485a217": {
     "model_module": "@jupyter-widgets/controls",
     "model_name": "FloatProgressModel",
     "state": {
      "_dom_classes": [],
      "_model_module": "@jupyter-widgets/controls",
      "_model_module_version": "1.5.0",
      "_model_name": "FloatProgressModel",
      "_view_count": null,
      "_view_module": "@jupyter-widgets/controls",
      "_view_module_version": "1.5.0",
      "_view_name": "ProgressView",
      "bar_style": "success",
      "description": "100%",
      "description_tooltip": null,
      "layout": "IPY_MODEL_59d1aa88a24b4fc2bdc03a49c4b688df",
      "max": 234,
      "min": 0,
      "orientation": "horizontal",
      "style": "IPY_MODEL_a811f1025ef24082973bffe62d40765f",
      "value": 234
     }
    },
    "e7f4802655724afd9a092409aa877864": {
     "model_module": "@jupyter-widgets/controls",
     "model_name": "HTMLModel",
     "state": {
      "_dom_classes": [],
      "_model_module": "@jupyter-widgets/controls",
      "_model_module_version": "1.5.0",
      "_model_name": "HTMLModel",
      "_view_count": null,
      "_view_module": "@jupyter-widgets/controls",
      "_view_module_version": "1.5.0",
      "_view_name": "HTMLView",
      "description": "",
      "description_tooltip": null,
      "layout": "IPY_MODEL_a080117996024495a960cc425204eec9",
      "placeholder": "​",
      "style": "IPY_MODEL_d56b6f6539114dd2843319f3ec144215",
      "value": " 390/390 [00:07&lt;00:00, 48.98it/s]"
     }
    },
    "ed16fe5ec86446b3b28d1090c2a8e38f": {
     "model_module": "@jupyter-widgets/base",
     "model_name": "LayoutModel",
     "state": {
      "_model_module": "@jupyter-widgets/base",
      "_model_module_version": "1.2.0",
      "_model_name": "LayoutModel",
      "_view_count": null,
      "_view_module": "@jupyter-widgets/base",
      "_view_module_version": "1.2.0",
      "_view_name": "LayoutView",
      "align_content": null,
      "align_items": null,
      "align_self": null,
      "border": null,
      "bottom": null,
      "display": null,
      "flex": null,
      "flex_flow": null,
      "grid_area": null,
      "grid_auto_columns": null,
      "grid_auto_flow": null,
      "grid_auto_rows": null,
      "grid_column": null,
      "grid_gap": null,
      "grid_row": null,
      "grid_template_areas": null,
      "grid_template_columns": null,
      "grid_template_rows": null,
      "height": null,
      "justify_content": null,
      "justify_items": null,
      "left": null,
      "margin": null,
      "max_height": null,
      "max_width": null,
      "min_height": null,
      "min_width": null,
      "object_fit": null,
      "object_position": null,
      "order": null,
      "overflow": null,
      "overflow_x": null,
      "overflow_y": null,
      "padding": null,
      "right": null,
      "top": null,
      "visibility": null,
      "width": null
     }
    },
    "ed1f48676b78498a9d981b36ae1a68ad": {
     "model_module": "@jupyter-widgets/base",
     "model_name": "LayoutModel",
     "state": {
      "_model_module": "@jupyter-widgets/base",
      "_model_module_version": "1.2.0",
      "_model_name": "LayoutModel",
      "_view_count": null,
      "_view_module": "@jupyter-widgets/base",
      "_view_module_version": "1.2.0",
      "_view_name": "LayoutView",
      "align_content": null,
      "align_items": null,
      "align_self": null,
      "border": null,
      "bottom": null,
      "display": null,
      "flex": null,
      "flex_flow": null,
      "grid_area": null,
      "grid_auto_columns": null,
      "grid_auto_flow": null,
      "grid_auto_rows": null,
      "grid_column": null,
      "grid_gap": null,
      "grid_row": null,
      "grid_template_areas": null,
      "grid_template_columns": null,
      "grid_template_rows": null,
      "height": null,
      "justify_content": null,
      "justify_items": null,
      "left": null,
      "margin": null,
      "max_height": null,
      "max_width": null,
      "min_height": null,
      "min_width": null,
      "object_fit": null,
      "object_position": null,
      "order": null,
      "overflow": null,
      "overflow_x": null,
      "overflow_y": null,
      "padding": null,
      "right": null,
      "top": null,
      "visibility": null,
      "width": null
     }
    },
    "f0916fac03c1452c90a8e7a4ff3290f4": {
     "model_module": "@jupyter-widgets/base",
     "model_name": "LayoutModel",
     "state": {
      "_model_module": "@jupyter-widgets/base",
      "_model_module_version": "1.2.0",
      "_model_name": "LayoutModel",
      "_view_count": null,
      "_view_module": "@jupyter-widgets/base",
      "_view_module_version": "1.2.0",
      "_view_name": "LayoutView",
      "align_content": null,
      "align_items": null,
      "align_self": null,
      "border": null,
      "bottom": null,
      "display": null,
      "flex": null,
      "flex_flow": null,
      "grid_area": null,
      "grid_auto_columns": null,
      "grid_auto_flow": null,
      "grid_auto_rows": null,
      "grid_column": null,
      "grid_gap": null,
      "grid_row": null,
      "grid_template_areas": null,
      "grid_template_columns": null,
      "grid_template_rows": null,
      "height": null,
      "justify_content": null,
      "justify_items": null,
      "left": null,
      "margin": null,
      "max_height": null,
      "max_width": null,
      "min_height": null,
      "min_width": null,
      "object_fit": null,
      "object_position": null,
      "order": null,
      "overflow": null,
      "overflow_x": null,
      "overflow_y": null,
      "padding": null,
      "right": null,
      "top": null,
      "visibility": null,
      "width": null
     }
    },
    "f0b337ad1447408280f2d077cc84dfa5": {
     "model_module": "@jupyter-widgets/base",
     "model_name": "LayoutModel",
     "state": {
      "_model_module": "@jupyter-widgets/base",
      "_model_module_version": "1.2.0",
      "_model_name": "LayoutModel",
      "_view_count": null,
      "_view_module": "@jupyter-widgets/base",
      "_view_module_version": "1.2.0",
      "_view_name": "LayoutView",
      "align_content": null,
      "align_items": null,
      "align_self": null,
      "border": null,
      "bottom": null,
      "display": null,
      "flex": null,
      "flex_flow": null,
      "grid_area": null,
      "grid_auto_columns": null,
      "grid_auto_flow": null,
      "grid_auto_rows": null,
      "grid_column": null,
      "grid_gap": null,
      "grid_row": null,
      "grid_template_areas": null,
      "grid_template_columns": null,
      "grid_template_rows": null,
      "height": null,
      "justify_content": null,
      "justify_items": null,
      "left": null,
      "margin": null,
      "max_height": null,
      "max_width": null,
      "min_height": null,
      "min_width": null,
      "object_fit": null,
      "object_position": null,
      "order": null,
      "overflow": null,
      "overflow_x": null,
      "overflow_y": null,
      "padding": null,
      "right": null,
      "top": null,
      "visibility": null,
      "width": null
     }
    },
    "f954a5ece4cf4db0a9e860ce4afe5153": {
     "model_module": "@jupyter-widgets/controls",
     "model_name": "ProgressStyleModel",
     "state": {
      "_model_module": "@jupyter-widgets/controls",
      "_model_module_version": "1.5.0",
      "_model_name": "ProgressStyleModel",
      "_view_count": null,
      "_view_module": "@jupyter-widgets/base",
      "_view_module_version": "1.2.0",
      "_view_name": "StyleView",
      "bar_color": null,
      "description_width": "initial"
     }
    },
    "fbeba699c2b7478d997bf0b931ade823": {
     "model_module": "@jupyter-widgets/controls",
     "model_name": "DescriptionStyleModel",
     "state": {
      "_model_module": "@jupyter-widgets/controls",
      "_model_module_version": "1.5.0",
      "_model_name": "DescriptionStyleModel",
      "_view_count": null,
      "_view_module": "@jupyter-widgets/base",
      "_view_module_version": "1.2.0",
      "_view_name": "StyleView",
      "description_width": ""
     }
    },
    "ffade0252cee410aa91598f87cc0c9c7": {
     "model_module": "@jupyter-widgets/base",
     "model_name": "LayoutModel",
     "state": {
      "_model_module": "@jupyter-widgets/base",
      "_model_module_version": "1.2.0",
      "_model_name": "LayoutModel",
      "_view_count": null,
      "_view_module": "@jupyter-widgets/base",
      "_view_module_version": "1.2.0",
      "_view_name": "LayoutView",
      "align_content": null,
      "align_items": null,
      "align_self": null,
      "border": null,
      "bottom": null,
      "display": null,
      "flex": null,
      "flex_flow": null,
      "grid_area": null,
      "grid_auto_columns": null,
      "grid_auto_flow": null,
      "grid_auto_rows": null,
      "grid_column": null,
      "grid_gap": null,
      "grid_row": null,
      "grid_template_areas": null,
      "grid_template_columns": null,
      "grid_template_rows": null,
      "height": null,
      "justify_content": null,
      "justify_items": null,
      "left": null,
      "margin": null,
      "max_height": null,
      "max_width": null,
      "min_height": null,
      "min_width": null,
      "object_fit": null,
      "object_position": null,
      "order": null,
      "overflow": null,
      "overflow_x": null,
      "overflow_y": null,
      "padding": null,
      "right": null,
      "top": null,
      "visibility": null,
      "width": null
     }
    }
   }
  }
 },
 "nbformat": 4,
 "nbformat_minor": 1
}
